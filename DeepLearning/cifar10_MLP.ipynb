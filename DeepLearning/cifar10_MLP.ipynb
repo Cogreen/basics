{
  "nbformat": 4,
  "nbformat_minor": 0,
  "metadata": {
    "colab": {
      "name": "cifar10_MLP.ipynb",
      "provenance": [],
      "authorship_tag": "ABX9TyNjv/XZp1vPBHZwu7h1lSTi"
    },
    "kernelspec": {
      "name": "python3",
      "display_name": "Python 3"
    },
    "accelerator": "GPU",
    "widgets": {
      "application/vnd.jupyter.widget-state+json": {
        "23644f6013d94347a1975c5fbce92e9f": {
          "model_module": "@jupyter-widgets/controls",
          "model_name": "HBoxModel",
          "state": {
            "_view_name": "HBoxView",
            "_dom_classes": [],
            "_model_name": "HBoxModel",
            "_view_module": "@jupyter-widgets/controls",
            "_model_module_version": "1.5.0",
            "_view_count": null,
            "_view_module_version": "1.5.0",
            "box_style": "",
            "layout": "IPY_MODEL_ef24cbf7641243449d4d135b13770e28",
            "_model_module": "@jupyter-widgets/controls",
            "children": [
              "IPY_MODEL_6aeb6098613043e3b225eb437fa45331",
              "IPY_MODEL_7f106008bd6e4c7ca57a7e69a72331e6"
            ]
          }
        },
        "ef24cbf7641243449d4d135b13770e28": {
          "model_module": "@jupyter-widgets/base",
          "model_name": "LayoutModel",
          "state": {
            "_view_name": "LayoutView",
            "grid_template_rows": null,
            "right": null,
            "justify_content": null,
            "_view_module": "@jupyter-widgets/base",
            "overflow": null,
            "_model_module_version": "1.2.0",
            "_view_count": null,
            "flex_flow": null,
            "width": null,
            "min_width": null,
            "border": null,
            "align_items": null,
            "bottom": null,
            "_model_module": "@jupyter-widgets/base",
            "top": null,
            "grid_column": null,
            "overflow_y": null,
            "overflow_x": null,
            "grid_auto_flow": null,
            "grid_area": null,
            "grid_template_columns": null,
            "flex": null,
            "_model_name": "LayoutModel",
            "justify_items": null,
            "grid_row": null,
            "max_height": null,
            "align_content": null,
            "visibility": null,
            "align_self": null,
            "height": null,
            "min_height": null,
            "padding": null,
            "grid_auto_rows": null,
            "grid_gap": null,
            "max_width": null,
            "order": null,
            "_view_module_version": "1.2.0",
            "grid_template_areas": null,
            "object_position": null,
            "object_fit": null,
            "grid_auto_columns": null,
            "margin": null,
            "display": null,
            "left": null
          }
        },
        "6aeb6098613043e3b225eb437fa45331": {
          "model_module": "@jupyter-widgets/controls",
          "model_name": "FloatProgressModel",
          "state": {
            "_view_name": "ProgressView",
            "style": "IPY_MODEL_17635a9f3c0f4629a77730a11b173c90",
            "_dom_classes": [],
            "description": "",
            "_model_name": "FloatProgressModel",
            "bar_style": "info",
            "max": 1,
            "_view_module": "@jupyter-widgets/controls",
            "_model_module_version": "1.5.0",
            "value": 1,
            "_view_count": null,
            "_view_module_version": "1.5.0",
            "orientation": "horizontal",
            "min": 0,
            "description_tooltip": null,
            "_model_module": "@jupyter-widgets/controls",
            "layout": "IPY_MODEL_ac40d8e64d244488a6369398e70fb848"
          }
        },
        "7f106008bd6e4c7ca57a7e69a72331e6": {
          "model_module": "@jupyter-widgets/controls",
          "model_name": "HTMLModel",
          "state": {
            "_view_name": "HTMLView",
            "style": "IPY_MODEL_2fe85a58b5e1498ab27ed58c44790271",
            "_dom_classes": [],
            "description": "",
            "_model_name": "HTMLModel",
            "placeholder": "​",
            "_view_module": "@jupyter-widgets/controls",
            "_model_module_version": "1.5.0",
            "value": " 170500096/? [00:20&lt;00:00, 92929127.60it/s]",
            "_view_count": null,
            "_view_module_version": "1.5.0",
            "description_tooltip": null,
            "_model_module": "@jupyter-widgets/controls",
            "layout": "IPY_MODEL_9def48b781d84a4bbaaa44110e96f2b6"
          }
        },
        "17635a9f3c0f4629a77730a11b173c90": {
          "model_module": "@jupyter-widgets/controls",
          "model_name": "ProgressStyleModel",
          "state": {
            "_view_name": "StyleView",
            "_model_name": "ProgressStyleModel",
            "description_width": "initial",
            "_view_module": "@jupyter-widgets/base",
            "_model_module_version": "1.5.0",
            "_view_count": null,
            "_view_module_version": "1.2.0",
            "bar_color": null,
            "_model_module": "@jupyter-widgets/controls"
          }
        },
        "ac40d8e64d244488a6369398e70fb848": {
          "model_module": "@jupyter-widgets/base",
          "model_name": "LayoutModel",
          "state": {
            "_view_name": "LayoutView",
            "grid_template_rows": null,
            "right": null,
            "justify_content": null,
            "_view_module": "@jupyter-widgets/base",
            "overflow": null,
            "_model_module_version": "1.2.0",
            "_view_count": null,
            "flex_flow": null,
            "width": null,
            "min_width": null,
            "border": null,
            "align_items": null,
            "bottom": null,
            "_model_module": "@jupyter-widgets/base",
            "top": null,
            "grid_column": null,
            "overflow_y": null,
            "overflow_x": null,
            "grid_auto_flow": null,
            "grid_area": null,
            "grid_template_columns": null,
            "flex": null,
            "_model_name": "LayoutModel",
            "justify_items": null,
            "grid_row": null,
            "max_height": null,
            "align_content": null,
            "visibility": null,
            "align_self": null,
            "height": null,
            "min_height": null,
            "padding": null,
            "grid_auto_rows": null,
            "grid_gap": null,
            "max_width": null,
            "order": null,
            "_view_module_version": "1.2.0",
            "grid_template_areas": null,
            "object_position": null,
            "object_fit": null,
            "grid_auto_columns": null,
            "margin": null,
            "display": null,
            "left": null
          }
        },
        "2fe85a58b5e1498ab27ed58c44790271": {
          "model_module": "@jupyter-widgets/controls",
          "model_name": "DescriptionStyleModel",
          "state": {
            "_view_name": "StyleView",
            "_model_name": "DescriptionStyleModel",
            "description_width": "",
            "_view_module": "@jupyter-widgets/base",
            "_model_module_version": "1.5.0",
            "_view_count": null,
            "_view_module_version": "1.2.0",
            "_model_module": "@jupyter-widgets/controls"
          }
        },
        "9def48b781d84a4bbaaa44110e96f2b6": {
          "model_module": "@jupyter-widgets/base",
          "model_name": "LayoutModel",
          "state": {
            "_view_name": "LayoutView",
            "grid_template_rows": null,
            "right": null,
            "justify_content": null,
            "_view_module": "@jupyter-widgets/base",
            "overflow": null,
            "_model_module_version": "1.2.0",
            "_view_count": null,
            "flex_flow": null,
            "width": null,
            "min_width": null,
            "border": null,
            "align_items": null,
            "bottom": null,
            "_model_module": "@jupyter-widgets/base",
            "top": null,
            "grid_column": null,
            "overflow_y": null,
            "overflow_x": null,
            "grid_auto_flow": null,
            "grid_area": null,
            "grid_template_columns": null,
            "flex": null,
            "_model_name": "LayoutModel",
            "justify_items": null,
            "grid_row": null,
            "max_height": null,
            "align_content": null,
            "visibility": null,
            "align_self": null,
            "height": null,
            "min_height": null,
            "padding": null,
            "grid_auto_rows": null,
            "grid_gap": null,
            "max_width": null,
            "order": null,
            "_view_module_version": "1.2.0",
            "grid_template_areas": null,
            "object_position": null,
            "object_fit": null,
            "grid_auto_columns": null,
            "margin": null,
            "display": null,
            "left": null
          }
        }
      }
    }
  },
  "cells": [
    {
      "cell_type": "markdown",
      "metadata": {
        "id": "X2VmDk6cHr6j"
      },
      "source": [
        "### 1. Loading and normalizing CIFAR10"
      ]
    },
    {
      "cell_type": "code",
      "metadata": {
        "colab": {
          "base_uri": "https://localhost:8080/"
        },
        "id": "23-RfUMh7vL_",
        "outputId": "2e6c1fb6-c2e1-4167-f9bc-aa76aa4f4b57"
      },
      "source": [
        "!pip install -q torch==1.7.0 torchvision\n",
        "import torch\n",
        "print(torch.__version__)"
      ],
      "execution_count": 16,
      "outputs": [
        {
          "output_type": "stream",
          "text": [
            "1.7.0+cu101\n"
          ],
          "name": "stdout"
        }
      ]
    },
    {
      "cell_type": "code",
      "metadata": {
        "id": "1MH86mxQ75AX"
      },
      "source": [
        "import torch\n",
        "import torchvision\n",
        "import torchvision.transforms as transforms"
      ],
      "execution_count": 2,
      "outputs": []
    },
    {
      "cell_type": "code",
      "metadata": {
        "colab": {
          "base_uri": "https://localhost:8080/",
          "height": 102,
          "referenced_widgets": [
            "23644f6013d94347a1975c5fbce92e9f",
            "ef24cbf7641243449d4d135b13770e28",
            "6aeb6098613043e3b225eb437fa45331",
            "7f106008bd6e4c7ca57a7e69a72331e6",
            "17635a9f3c0f4629a77730a11b173c90",
            "ac40d8e64d244488a6369398e70fb848",
            "2fe85a58b5e1498ab27ed58c44790271",
            "9def48b781d84a4bbaaa44110e96f2b6"
          ]
        },
        "id": "jCECHZcT8M2B",
        "outputId": "41da8456-f584-489f-ab5b-bcf3595e1f4c"
      },
      "source": [
        "transform = transforms.Compose(\n",
        "    [transforms.ToTensor(),\n",
        "     transforms.Normalize((0.5, 0.5, 0.5), (0.5, 0.5, 0.5))]) \n",
        "'''\n",
        "  transforms: image file을 torch tensor읽고 변환해주는 library\n",
        "  - ToTensor: 1~0 값으로 변환 #0: 제일 어두움 #1: 제일 밝음\n",
        "  - transforms.Normalize: 각 이미지에 대해 이미지 tensor들을 normalization해주는 것, RGB채널에 대해 세개의 값 (R=0.5, G=0.5, B=0.5)에 대한 중간값 \n",
        "'''\n",
        "trainset = torchvision.datasets.CIFAR10(root='./data', train=True,\n",
        "                                        download=True, transform=transform)\n",
        "\n",
        "trainloader = torch.utils.data.DataLoader(trainset, batch_size=4,\n",
        "                                          shuffle=True, num_workers=2)\n",
        "\n",
        "testset = torchvision.datasets.CIFAR10(root='./data', train=False,\n",
        "                                       download=True, transform=transform)\n",
        "testloader = torch.utils.data.DataLoader(testset, batch_size=4,\n",
        "                                         shuffle=False, num_workers=2)\n",
        "\n",
        "classes = ('plane', 'car', 'bird', 'cat',\n",
        "           'deer', 'dog', 'frog', 'horse', 'ship', 'truck')\n"
      ],
      "execution_count": 3,
      "outputs": [
        {
          "output_type": "stream",
          "text": [
            "Downloading https://www.cs.toronto.edu/~kriz/cifar-10-python.tar.gz to ./data/cifar-10-python.tar.gz\n"
          ],
          "name": "stdout"
        },
        {
          "output_type": "display_data",
          "data": {
            "application/vnd.jupyter.widget-view+json": {
              "model_id": "23644f6013d94347a1975c5fbce92e9f",
              "version_minor": 0,
              "version_major": 2
            },
            "text/plain": [
              "HBox(children=(FloatProgress(value=1.0, bar_style='info', max=1.0), HTML(value='')))"
            ]
          },
          "metadata": {
            "tags": []
          }
        },
        {
          "output_type": "stream",
          "text": [
            "Extracting ./data/cifar-10-python.tar.gz to ./data\n",
            "Files already downloaded and verified\n"
          ],
          "name": "stdout"
        }
      ]
    },
    {
      "cell_type": "code",
      "metadata": {
        "colab": {
          "base_uri": "https://localhost:8080/",
          "height": 191
        },
        "id": "Iw_eeBi38XNw",
        "outputId": "9d079665-ed13-4417-b3eb-dfb7db4425a4"
      },
      "source": [
        "import matplotlib.pyplot as plt\n",
        "import numpy as np\n",
        "\n",
        "# functions to show an image\n",
        "\n",
        "\n",
        "def imshow(img):\n",
        "    img = img / 2 + 0.5     # unnormalize\n",
        "    npimg = img.numpy()\n",
        "    plt.imshow(np.transpose(npimg, (1, 2, 0)))\n",
        "    plt.show()\n",
        "\n",
        "\n",
        "# get some random training images\n",
        "dataiter = iter(trainloader)\n",
        "images, labels = dataiter.next()\n",
        "                # dateriter.next():  자동으로 다음 batch를 건내줌\n",
        "\n",
        "\n",
        "# show images\n",
        "imshow(torchvision.utils.make_grid(images))\n",
        "# print labels\n",
        "print(' '.join('%5s' % classes[labels[j]] for j in range(4)))\n",
        "\n",
        "'''\n",
        "ground truth: True y ('dog ship bird plane')\n",
        "'''\n",
        "\n",
        "# 추가 \n",
        "print(type(images), images.shape)\n",
        "'''\n",
        "out: <class 'torch.Tensor'> torch.Size([4, 3, 32, 32])\n",
        "images.shape을 출력하면 torch.Size[4, 3, 32, 32]로 나오는데\n",
        "- 여기서 4가 batch_size=4를 말함, \n",
        "즉, 해당 batch에서 건내받은 tensor들로, 각각의 사진을 말한다.이미지를 불러온 것.(batch_size = 4 -> 이미지)\n",
        "- RGB = 3  (1은 gray scale)\n",
        "- 32, 32 = 가로 *세로 \n",
        "- 따라서 32*32*3(RGB) 차원의 image로 변환됨\n",
        "'''\n",
        "\n",
        "print(type(labels), labels.shape, labels)\n",
        "'''\n",
        "images와 labels이 잘 aligment되어 있는지 확인해줘야 함\n",
        "out: <class 'torch.Tensor'> torch.Size([4]) tensor([3, 9, 9, 5])\n",
        "tensor([3, 9, 9, 5]) 는 앞서 classes에서 선언해준 label값\n",
        "classes = ('plane', 'car', 'bird', 'cat',\n",
        "           'deer', 'dog', 'frog', 'horse', 'ship', 'truck')\n",
        "-> cat, truck, truck, dog\n",
        "'''\n",
        "\n"
      ],
      "execution_count": 10,
      "outputs": [
        {
          "output_type": "display_data",
          "data": {
            "image/png": "[encoded data removed]",
            "text/plain": [
              "<Figure size 432x288 with 1 Axes>"
            ]
          },
          "metadata": {
            "tags": [],
            "needs_background": "light"
          }
        },
        {
          "output_type": "stream",
          "text": [
            "  cat truck truck   dog\n",
            "<class 'torch.Tensor'> torch.Size([4, 3, 32, 32])\n",
            "<class 'torch.Tensor'> torch.Size([4]) tensor([3, 9, 9, 5])\n"
          ],
          "name": "stdout"
        }
      ]
    },
    {
      "cell_type": "markdown",
      "metadata": {
        "id": "sPi_JO5dHjKj"
      },
      "source": [
        "### 2. Define MLP"
      ]
    },
    {
      "cell_type": "code",
      "metadata": {
        "colab": {
          "base_uri": "https://localhost:8080/"
        },
        "id": "0z2-zypt9y6H",
        "outputId": "3bffe36f-f744-4fa8-f58a-3adf6274791f"
      },
      "source": [
        "# ============= Model Architecture =========== #\n",
        "\n",
        "import torch.nn as nn\n",
        "import torch.nn.functional as F\n",
        "\n",
        "\n",
        "class MLP(nn.Module):\n",
        "  def __init__(self, in_dim, out_dim, hid_dim, n_layer, act):\n",
        "    super(MLP, self).__init__()\n",
        "    # self로 다시 인자들을 받아줌, 다음 forward에서도 이 인자들을 받을 수 있기 때문에.\n",
        "    self.in_dim = in_dim\n",
        "    self.out_dim = out_dim\n",
        "    self.hid_dim = hid_dim\n",
        "    self.n_layer = n_layer\n",
        "    self.act = act\n",
        "\n",
        "    self.fc = nn.Linear(self.in_dim, self.hid_dim)    #fc=fully connected -> linear\n",
        "    self.linears = nn.ModuleList()\n",
        "    \n",
        "    for i in range(self.n_layer-1):           \n",
        "      # n_layer 를 hidden layer를 생각할 때는 n_layer로 설정, n_layer를 input+hidden layer로 생각할 때는 n_layer -1로 설정\n",
        "      # 이 코드는 n_layer를 hidden layer로 생각하고, 마지막 layer는 out_dim으로 보내주기 위해 n_layer-1까지만 반복해 줌\n",
        "      self.linears.append(nn.Linear(self.hid_dim, self.hid_dim))\n",
        "    self.fc2 = nn.Linear(self.hid_dim, self.out_dim)\n",
        "\n",
        "    # activation function\n",
        "    if self.act == 'relu':\n",
        "      self.act = nn.ReLU()\n",
        "\n",
        "  def forward(self, x):\n",
        "    x = self.act(self.fc(x))\n",
        "    for fc in self.linears:   # 이렇게 하면 fc에 바로 nn.Linear object가 바로 반환됨\n",
        "      x = self.act(fc(x))\n",
        "      # 마지막 layer에는 ReLU를 씌우면 안 됨, 그 이유는 모두 0으로 truncate되어 classification을 잘못할 수 있음 -> 따라서 위 def에서 fc2로 actvation function을 제외한 fc를 만들어 주어 이제 활용함\n",
        "    x = self.fc2(x)\n",
        "    return x\n",
        "\n",
        "net = MLP(3072, 10, 100, 4, 'relu')  # 3072=input의 차원 32*32*3\n",
        "print(net)"
      ],
      "execution_count": 17,
      "outputs": [
        {
          "output_type": "stream",
          "text": [
            "MLP(\n",
            "  (fc): Linear(in_features=3072, out_features=100, bias=True)\n",
            "  (linears): ModuleList(\n",
            "    (0): Linear(in_features=100, out_features=100, bias=True)\n",
            "    (1): Linear(in_features=100, out_features=100, bias=True)\n",
            "    (2): Linear(in_features=100, out_features=100, bias=True)\n",
            "  )\n",
            "  (fc2): Linear(in_features=100, out_features=10, bias=True)\n",
            "  (act): ReLU()\n",
            ")\n"
          ],
          "name": "stdout"
        }
      ]
    },
    {
      "cell_type": "markdown",
      "metadata": {
        "id": "6w8biuU-H0si"
      },
      "source": [
        "### 3. Define a Loss function and optimizer"
      ]
    },
    {
      "cell_type": "code",
      "metadata": {
        "colab": {
          "base_uri": "https://localhost:8080/"
        },
        "id": "iVbaoE1BGnSZ",
        "outputId": "6d3e0d31-751b-46f9-f382-fada251436ce"
      },
      "source": [
        "# ======= Optimizer, Function ========= #\n",
        "\n",
        "import torch.optim as optim\n",
        "\n",
        "criterion = nn.CrossEntropyLoss()\n",
        "optimizer = optim.SGD(net.parameters(), lr=0.001, momentum=0.9)\n",
        "\n",
        "print(criterion)\n",
        "print(optimizer)"
      ],
      "execution_count": 18,
      "outputs": [
        {
          "output_type": "stream",
          "text": [
            "CrossEntropyLoss()\n",
            "SGD (\n",
            "Parameter Group 0\n",
            "    dampening: 0\n",
            "    lr: 0.001\n",
            "    momentum: 0.9\n",
            "    nesterov: False\n",
            "    weight_decay: 0\n",
            ")\n"
          ],
          "name": "stdout"
        }
      ]
    },
    {
      "cell_type": "markdown",
      "metadata": {
        "id": "Bpxv7ZbEIRXy"
      },
      "source": [
        "### 4. Train the network"
      ]
    },
    {
      "cell_type": "code",
      "metadata": {
        "colab": {
          "base_uri": "https://localhost:8080/",
          "height": 404
        },
        "id": "xSnfbFgCIFWs",
        "outputId": "5fc3b51b-de55-4946-a35d-8184862ecb3e"
      },
      "source": [
        "for epoch in range(2):  # loop over the dataset multiple times\n",
        "\n",
        "    running_loss = 0.0\n",
        "    for i, data in enumerate(trainloader, 0):\n",
        "        # get the inputs; data is a list of [inputs, labels]\n",
        "        print(inputs.shape)\n",
        "\n",
        "        # zero the parameter gradients\n",
        "        optimizer.zero_grad()\n",
        "\n",
        "        # forward + backward + optimize\n",
        "        outputs = net(inputs)\n",
        "        loss = criterion(outputs, labels)\n",
        "        loss.backward()\n",
        "        optimizer.step()\n",
        "\n",
        "        # print statistics\n",
        "        running_loss += loss.item()\n",
        "        if i % 2000 == 1999:    # print every 2000 mini-batches\n",
        "            print('[%d, %5d] loss: %.3f' %\n",
        "                  (epoch + 1, i + 1, running_loss / 2000))\n",
        "            running_loss = 0.0\n",
        "\n",
        "print('Finished Training')"
      ],
      "execution_count": 20,
      "outputs": [
        {
          "output_type": "stream",
          "text": [
            "torch.Size([4, 3, 32, 32])\n"
          ],
          "name": "stdout"
        },
        {
          "output_type": "error",
          "ename": "RuntimeError",
          "evalue": "ignored",
          "traceback": [
            "\u001b[0;31m---------------------------------------------------------------------------\u001b[0m",
            "\u001b[0;31mRuntimeError\u001b[0m                              Traceback (most recent call last)",
            "\u001b[0;32m<ipython-input-20-8471dc1f4923>\u001b[0m in \u001b[0;36m<module>\u001b[0;34m()\u001b[0m\n\u001b[1;32m     11\u001b[0m \u001b[0;34m\u001b[0m\u001b[0m\n\u001b[1;32m     12\u001b[0m         \u001b[0;31m# forward + backward + optimize\u001b[0m\u001b[0;34m\u001b[0m\u001b[0;34m\u001b[0m\u001b[0;34m\u001b[0m\u001b[0m\n\u001b[0;32m---> 13\u001b[0;31m         \u001b[0moutputs\u001b[0m \u001b[0;34m=\u001b[0m \u001b[0mnet\u001b[0m\u001b[0;34m(\u001b[0m\u001b[0minputs\u001b[0m\u001b[0;34m)\u001b[0m\u001b[0;34m\u001b[0m\u001b[0;34m\u001b[0m\u001b[0m\n\u001b[0m\u001b[1;32m     14\u001b[0m         \u001b[0mloss\u001b[0m \u001b[0;34m=\u001b[0m \u001b[0mcriterion\u001b[0m\u001b[0;34m(\u001b[0m\u001b[0moutputs\u001b[0m\u001b[0;34m,\u001b[0m \u001b[0mlabels\u001b[0m\u001b[0;34m)\u001b[0m\u001b[0;34m\u001b[0m\u001b[0;34m\u001b[0m\u001b[0m\n\u001b[1;32m     15\u001b[0m         \u001b[0mloss\u001b[0m\u001b[0;34m.\u001b[0m\u001b[0mbackward\u001b[0m\u001b[0;34m(\u001b[0m\u001b[0;34m)\u001b[0m\u001b[0;34m\u001b[0m\u001b[0;34m\u001b[0m\u001b[0m\n",
            "\u001b[0;32m/usr/local/lib/python3.6/dist-packages/torch/nn/modules/module.py\u001b[0m in \u001b[0;36m_call_impl\u001b[0;34m(self, *input, **kwargs)\u001b[0m\n\u001b[1;32m    725\u001b[0m             \u001b[0mresult\u001b[0m \u001b[0;34m=\u001b[0m \u001b[0mself\u001b[0m\u001b[0;34m.\u001b[0m\u001b[0m_slow_forward\u001b[0m\u001b[0;34m(\u001b[0m\u001b[0;34m*\u001b[0m\u001b[0minput\u001b[0m\u001b[0;34m,\u001b[0m \u001b[0;34m**\u001b[0m\u001b[0mkwargs\u001b[0m\u001b[0;34m)\u001b[0m\u001b[0;34m\u001b[0m\u001b[0;34m\u001b[0m\u001b[0m\n\u001b[1;32m    726\u001b[0m         \u001b[0;32melse\u001b[0m\u001b[0;34m:\u001b[0m\u001b[0;34m\u001b[0m\u001b[0;34m\u001b[0m\u001b[0m\n\u001b[0;32m--> 727\u001b[0;31m             \u001b[0mresult\u001b[0m \u001b[0;34m=\u001b[0m \u001b[0mself\u001b[0m\u001b[0;34m.\u001b[0m\u001b[0mforward\u001b[0m\u001b[0;34m(\u001b[0m\u001b[0;34m*\u001b[0m\u001b[0minput\u001b[0m\u001b[0;34m,\u001b[0m \u001b[0;34m**\u001b[0m\u001b[0mkwargs\u001b[0m\u001b[0;34m)\u001b[0m\u001b[0;34m\u001b[0m\u001b[0;34m\u001b[0m\u001b[0m\n\u001b[0m\u001b[1;32m    728\u001b[0m         for hook in itertools.chain(\n\u001b[1;32m    729\u001b[0m                 \u001b[0m_global_forward_hooks\u001b[0m\u001b[0;34m.\u001b[0m\u001b[0mvalues\u001b[0m\u001b[0;34m(\u001b[0m\u001b[0;34m)\u001b[0m\u001b[0;34m,\u001b[0m\u001b[0;34m\u001b[0m\u001b[0;34m\u001b[0m\u001b[0m\n",
            "\u001b[0;32m<ipython-input-17-5cd8933a90aa>\u001b[0m in \u001b[0;36mforward\u001b[0;34m(self, x)\u001b[0m\n\u001b[1;32m     27\u001b[0m \u001b[0;34m\u001b[0m\u001b[0m\n\u001b[1;32m     28\u001b[0m   \u001b[0;32mdef\u001b[0m \u001b[0mforward\u001b[0m\u001b[0;34m(\u001b[0m\u001b[0mself\u001b[0m\u001b[0;34m,\u001b[0m \u001b[0mx\u001b[0m\u001b[0;34m)\u001b[0m\u001b[0;34m:\u001b[0m\u001b[0;34m\u001b[0m\u001b[0;34m\u001b[0m\u001b[0m\n\u001b[0;32m---> 29\u001b[0;31m     \u001b[0mx\u001b[0m \u001b[0;34m=\u001b[0m \u001b[0mself\u001b[0m\u001b[0;34m.\u001b[0m\u001b[0mact\u001b[0m\u001b[0;34m(\u001b[0m\u001b[0mself\u001b[0m\u001b[0;34m.\u001b[0m\u001b[0mfc\u001b[0m\u001b[0;34m(\u001b[0m\u001b[0mx\u001b[0m\u001b[0;34m)\u001b[0m\u001b[0;34m)\u001b[0m\u001b[0;34m\u001b[0m\u001b[0;34m\u001b[0m\u001b[0m\n\u001b[0m\u001b[1;32m     30\u001b[0m     \u001b[0;32mfor\u001b[0m \u001b[0mfc\u001b[0m \u001b[0;32min\u001b[0m \u001b[0mself\u001b[0m\u001b[0;34m.\u001b[0m\u001b[0mlinears\u001b[0m\u001b[0;34m:\u001b[0m   \u001b[0;31m# 이렇게 하면 fc에 바로 nn.Linear object가 바로 반환됨\u001b[0m\u001b[0;34m\u001b[0m\u001b[0;34m\u001b[0m\u001b[0m\n\u001b[1;32m     31\u001b[0m       \u001b[0mx\u001b[0m \u001b[0;34m=\u001b[0m \u001b[0mself\u001b[0m\u001b[0;34m.\u001b[0m\u001b[0mact\u001b[0m\u001b[0;34m(\u001b[0m\u001b[0mfc\u001b[0m\u001b[0;34m(\u001b[0m\u001b[0mx\u001b[0m\u001b[0;34m)\u001b[0m\u001b[0;34m)\u001b[0m\u001b[0;34m\u001b[0m\u001b[0;34m\u001b[0m\u001b[0m\n",
            "\u001b[0;32m/usr/local/lib/python3.6/dist-packages/torch/nn/modules/module.py\u001b[0m in \u001b[0;36m_call_impl\u001b[0;34m(self, *input, **kwargs)\u001b[0m\n\u001b[1;32m    725\u001b[0m             \u001b[0mresult\u001b[0m \u001b[0;34m=\u001b[0m \u001b[0mself\u001b[0m\u001b[0;34m.\u001b[0m\u001b[0m_slow_forward\u001b[0m\u001b[0;34m(\u001b[0m\u001b[0;34m*\u001b[0m\u001b[0minput\u001b[0m\u001b[0;34m,\u001b[0m \u001b[0;34m**\u001b[0m\u001b[0mkwargs\u001b[0m\u001b[0;34m)\u001b[0m\u001b[0;34m\u001b[0m\u001b[0;34m\u001b[0m\u001b[0m\n\u001b[1;32m    726\u001b[0m         \u001b[0;32melse\u001b[0m\u001b[0;34m:\u001b[0m\u001b[0;34m\u001b[0m\u001b[0;34m\u001b[0m\u001b[0m\n\u001b[0;32m--> 727\u001b[0;31m             \u001b[0mresult\u001b[0m \u001b[0;34m=\u001b[0m \u001b[0mself\u001b[0m\u001b[0;34m.\u001b[0m\u001b[0mforward\u001b[0m\u001b[0;34m(\u001b[0m\u001b[0;34m*\u001b[0m\u001b[0minput\u001b[0m\u001b[0;34m,\u001b[0m \u001b[0;34m**\u001b[0m\u001b[0mkwargs\u001b[0m\u001b[0;34m)\u001b[0m\u001b[0;34m\u001b[0m\u001b[0;34m\u001b[0m\u001b[0m\n\u001b[0m\u001b[1;32m    728\u001b[0m         for hook in itertools.chain(\n\u001b[1;32m    729\u001b[0m                 \u001b[0m_global_forward_hooks\u001b[0m\u001b[0;34m.\u001b[0m\u001b[0mvalues\u001b[0m\u001b[0;34m(\u001b[0m\u001b[0;34m)\u001b[0m\u001b[0;34m,\u001b[0m\u001b[0;34m\u001b[0m\u001b[0;34m\u001b[0m\u001b[0m\n",
            "\u001b[0;32m/usr/local/lib/python3.6/dist-packages/torch/nn/modules/linear.py\u001b[0m in \u001b[0;36mforward\u001b[0;34m(self, input)\u001b[0m\n\u001b[1;32m     91\u001b[0m \u001b[0;34m\u001b[0m\u001b[0m\n\u001b[1;32m     92\u001b[0m     \u001b[0;32mdef\u001b[0m \u001b[0mforward\u001b[0m\u001b[0;34m(\u001b[0m\u001b[0mself\u001b[0m\u001b[0;34m,\u001b[0m \u001b[0minput\u001b[0m\u001b[0;34m:\u001b[0m \u001b[0mTensor\u001b[0m\u001b[0;34m)\u001b[0m \u001b[0;34m->\u001b[0m \u001b[0mTensor\u001b[0m\u001b[0;34m:\u001b[0m\u001b[0;34m\u001b[0m\u001b[0;34m\u001b[0m\u001b[0m\n\u001b[0;32m---> 93\u001b[0;31m         \u001b[0;32mreturn\u001b[0m \u001b[0mF\u001b[0m\u001b[0;34m.\u001b[0m\u001b[0mlinear\u001b[0m\u001b[0;34m(\u001b[0m\u001b[0minput\u001b[0m\u001b[0;34m,\u001b[0m \u001b[0mself\u001b[0m\u001b[0;34m.\u001b[0m\u001b[0mweight\u001b[0m\u001b[0;34m,\u001b[0m \u001b[0mself\u001b[0m\u001b[0;34m.\u001b[0m\u001b[0mbias\u001b[0m\u001b[0;34m)\u001b[0m\u001b[0;34m\u001b[0m\u001b[0;34m\u001b[0m\u001b[0m\n\u001b[0m\u001b[1;32m     94\u001b[0m \u001b[0;34m\u001b[0m\u001b[0m\n\u001b[1;32m     95\u001b[0m     \u001b[0;32mdef\u001b[0m \u001b[0mextra_repr\u001b[0m\u001b[0;34m(\u001b[0m\u001b[0mself\u001b[0m\u001b[0;34m)\u001b[0m \u001b[0;34m->\u001b[0m \u001b[0mstr\u001b[0m\u001b[0;34m:\u001b[0m\u001b[0;34m\u001b[0m\u001b[0;34m\u001b[0m\u001b[0m\n",
            "\u001b[0;32m/usr/local/lib/python3.6/dist-packages/torch/nn/functional.py\u001b[0m in \u001b[0;36mlinear\u001b[0;34m(input, weight, bias)\u001b[0m\n\u001b[1;32m   1690\u001b[0m         \u001b[0mret\u001b[0m \u001b[0;34m=\u001b[0m \u001b[0mtorch\u001b[0m\u001b[0;34m.\u001b[0m\u001b[0maddmm\u001b[0m\u001b[0;34m(\u001b[0m\u001b[0mbias\u001b[0m\u001b[0;34m,\u001b[0m \u001b[0minput\u001b[0m\u001b[0;34m,\u001b[0m \u001b[0mweight\u001b[0m\u001b[0;34m.\u001b[0m\u001b[0mt\u001b[0m\u001b[0;34m(\u001b[0m\u001b[0;34m)\u001b[0m\u001b[0;34m)\u001b[0m\u001b[0;34m\u001b[0m\u001b[0;34m\u001b[0m\u001b[0m\n\u001b[1;32m   1691\u001b[0m     \u001b[0;32melse\u001b[0m\u001b[0;34m:\u001b[0m\u001b[0;34m\u001b[0m\u001b[0;34m\u001b[0m\u001b[0m\n\u001b[0;32m-> 1692\u001b[0;31m         \u001b[0moutput\u001b[0m \u001b[0;34m=\u001b[0m \u001b[0minput\u001b[0m\u001b[0;34m.\u001b[0m\u001b[0mmatmul\u001b[0m\u001b[0;34m(\u001b[0m\u001b[0mweight\u001b[0m\u001b[0;34m.\u001b[0m\u001b[0mt\u001b[0m\u001b[0;34m(\u001b[0m\u001b[0;34m)\u001b[0m\u001b[0;34m)\u001b[0m\u001b[0;34m\u001b[0m\u001b[0;34m\u001b[0m\u001b[0m\n\u001b[0m\u001b[1;32m   1693\u001b[0m         \u001b[0;32mif\u001b[0m \u001b[0mbias\u001b[0m \u001b[0;32mis\u001b[0m \u001b[0;32mnot\u001b[0m \u001b[0;32mNone\u001b[0m\u001b[0;34m:\u001b[0m\u001b[0;34m\u001b[0m\u001b[0;34m\u001b[0m\u001b[0m\n\u001b[1;32m   1694\u001b[0m             \u001b[0moutput\u001b[0m \u001b[0;34m+=\u001b[0m \u001b[0mbias\u001b[0m\u001b[0;34m\u001b[0m\u001b[0;34m\u001b[0m\u001b[0m\n",
            "\u001b[0;31mRuntimeError\u001b[0m: mat1 and mat2 shapes cannot be multiplied (384x32 and 3072x100)"
          ]
        }
      ]
    },
    {
      "cell_type": "code",
      "metadata": {
        "colab": {
          "base_uri": "https://localhost:8080/"
        },
        "id": "mg9fZsfJIUNs",
        "outputId": "e70d6645-fabf-4cb8-de62-40ae75f9179e"
      },
      "source": [
        "# ======== Train ========== #\n",
        "\n",
        "for epoch in range(2):  # loop over the dataset multiple times\n",
        "\n",
        "    running_loss = 0.0\n",
        "    for i, data in enumerate(trainloader, 0):\n",
        "        # get the inputs; data is a list of [inputs, labels]\n",
        "        inputs, labels = data  \n",
        "        inputs = inputs.view(-1, 3072)      # -1의 의미: 지정한 dimension을 맞추고 난 다음, 남아있는 dimension을 몫으로 채워준다는 것을 의미\n",
        "                                            # 즉, (-1, 3072): view기능은 -1자리에 3072를 나눈 값이 들어옴 / **view는 차원을 다루고자 할 때 쉽게 manipulation할 수 있음\n",
        "        #print(inputs.shape) #4*3*32*32(12288) 한 batch에는 한 element가 들어가 있음, 쭉 일렬로 늘려놓으면 12288개의 tensor가 됨 \n",
        "\n",
        "        # zero the parameter gradients\n",
        "        optimizer.zero_grad()\n",
        "\n",
        "        # forward + backward + optimize\n",
        "        outputs = net(inputs)\n",
        "        loss = criterion(outputs, labels)\n",
        "        loss.backward()\n",
        "        optimizer.step()\n",
        "\n",
        "        # print statistics\n",
        "        running_loss += loss.item()\n",
        "        if i % 2000 == 1999:    # print every 2000 mini-batches\n",
        "            print('[%d, %5d] loss: %.3f' %\n",
        "                  (epoch + 1, i + 1, running_loss / 2000))\n",
        "            running_loss = 0.0\n",
        "\n",
        "print('Finished Training')"
      ],
      "execution_count": 24,
      "outputs": [
        {
          "output_type": "stream",
          "text": [
            "[1,  2000] loss: 1.341\n",
            "[1,  4000] loss: 1.360\n",
            "[1,  6000] loss: 1.374\n",
            "[1,  8000] loss: 1.353\n",
            "[1, 10000] loss: 1.355\n",
            "[1, 12000] loss: 1.351\n",
            "[2,  2000] loss: 1.277\n",
            "[2,  4000] loss: 1.305\n",
            "[2,  6000] loss: 1.297\n",
            "[2,  8000] loss: 1.306\n",
            "[2, 10000] loss: 1.288\n",
            "[2, 12000] loss: 1.303\n",
            "Finished Training\n"
          ],
          "name": "stdout"
        }
      ]
    },
    {
      "cell_type": "markdown",
      "metadata": {
        "id": "pEZD1bOJLZM2"
      },
      "source": [
        "### 5. Test the network on the test data"
      ]
    },
    {
      "cell_type": "code",
      "metadata": {
        "colab": {
          "base_uri": "https://localhost:8080/",
          "height": 156
        },
        "id": "QDSuvE8JI_PI",
        "outputId": "5528dd59-8cf1-4e53-f1bc-999751109807"
      },
      "source": [
        "dataiter = iter(testloader)\n",
        "images, labels = dataiter.next()\n",
        "\n",
        "# print images\n",
        "imshow(torchvision.utils.make_grid(images))\n",
        "print('GroundTruth: ', ' '.join('%5s' % classes[labels[j]] for j in range(4)))"
      ],
      "execution_count": 25,
      "outputs": [
        {
          "output_type": "display_data",
          "data": {
            "image/png": "[encoded data removed]",
            "text/plain": [
              "<Figure size 432x288 with 1 Axes>"
            ]
          },
          "metadata": {
            "tags": [],
            "needs_background": "light"
          }
        },
        {
          "output_type": "stream",
          "text": [
            "GroundTruth:    cat  ship  ship plane\n"
          ],
          "name": "stdout"
        }
      ]
    },
    {
      "cell_type": "code",
      "metadata": {
        "colab": {
          "base_uri": "https://localhost:8080/"
        },
        "id": "5kF3i7bfLbs5",
        "outputId": "bafa6459-1a24-47e2-d55c-b6f77befa4cf"
      },
      "source": [
        "# ===== Measure Test Accuracy ========== # \n",
        "correct = 0\n",
        "total = 0\n",
        "with torch.no_grad():\n",
        "    for data in testloader:\n",
        "        images, labels = data\n",
        "        images = images.view(-1, 3072)\n",
        "        outputs = net(images)\n",
        "        _, predicted = torch.max(outputs.data, 1)\n",
        "        total += labels.size(0)\n",
        "        correct += (predicted == labels).sum().item()\n",
        "\n",
        "print('Accuracy of the network on the 10000 test images: %d %%' % (\n",
        "    100 * correct / total))"
      ],
      "execution_count": 27,
      "outputs": [
        {
          "output_type": "stream",
          "text": [
            "Accuracy of the network on the 10000 test images: 50 %\n"
          ],
          "name": "stdout"
        }
      ]
    },
    {
      "cell_type": "markdown",
      "metadata": {
        "id": "D3b1tbheL3aC"
      },
      "source": [
        "# *** Modify DataLoader ***"
      ]
    },
    {
      "cell_type": "markdown",
      "metadata": {
        "id": "vb204f-qMPwZ"
      },
      "source": [
        "- split data: serching pytorch dataset split"
      ]
    },
    {
      "cell_type": "code",
      "metadata": {
        "colab": {
          "base_uri": "https://localhost:8080/"
        },
        "id": "M0Mfxn-wLknd",
        "outputId": "a7afd73d-30ba-4b7d-c4f5-45cbcdb1cbd6"
      },
      "source": [
        "transform = transforms.Compose(\n",
        "    [transforms.ToTensor(),\n",
        "     transforms.Normalize((0.5, 0.5, 0.5), (0.5, 0.5, 0.5))]) \n",
        "\n",
        "trainset = torchvision.datasets.CIFAR10(root='./data', train=True,\n",
        "                                        download=True, transform=transform)\n",
        "trainset, valset = torch.utils.data.random_split(trainset, [40000, 10000])\n",
        "testset = torchvision.datasets.CIFAR10(root='./data', train=False,\n",
        "                                       download=True, transform=transform)\n",
        "\n",
        "trainloader = torch.utils.data.DataLoader(trainset, batch_size=4,\n",
        "                                          shuffle=True, num_workers=2)\n",
        "valloader = torch.utils.data.DataLoader(valset,batch_size=4, shuffle=False)\n",
        "testloader = torch.utils.data.DataLoader(testset, batch_size=4,\n",
        "\n",
        "                                         shuffle=False, num_workers=2)\n",
        "\n",
        "classes = ('plane', 'car', 'bird', 'cat',\n",
        "           'deer', 'dog', 'frog', 'horse', 'ship', 'truck')"
      ],
      "execution_count": 31,
      "outputs": [
        {
          "output_type": "stream",
          "text": [
            "Files already downloaded and verified\n",
            "Files already downloaded and verified\n"
          ],
          "name": "stdout"
        }
      ]
    },
    {
      "cell_type": "markdown",
      "metadata": {
        "id": "44w547DIN12x"
      },
      "source": [
        "### - Loss, Accuracy for Validation set"
      ]
    },
    {
      "cell_type": "code",
      "metadata": {
        "colab": {
          "base_uri": "https://localhost:8080/"
        },
        "id": "ipVy54auNH-9",
        "outputId": "a3224728-1010-4de8-ef1c-61dd4ad2008a"
      },
      "source": [
        "# ===== Measure Validation Loss, Accuracy ========== # \n",
        "correct = 0\n",
        "total = 0\n",
        "val_loss = 0 \n",
        "\n",
        "with torch.no_grad():\n",
        "    for data in valloader:\n",
        "        images, labels = data\n",
        "        images = images.view(-1, 3072)\n",
        "        outputs = net(images)\n",
        "        \n",
        "        ###############\n",
        "        loss = criterion(outputs, labels)\n",
        "        val_loss += loss.item()\n",
        "        ###############\n",
        "      \n",
        "        _, predicted = torch.max(outputs.data, 1)\n",
        "        total += labels.size(0)\n",
        "        correct += (predicted == labels).sum().item()\n",
        "    \n",
        "    ###############\n",
        "    #print(len(valloader))\n",
        "    val_loss = val_loss/ len(valloader)  #batch로 나눠줌 (1000개의 data를 4개로 나눠줌=2500)\n",
        "    #print(val_loss)\n",
        "    ##############\n",
        "\n",
        "##############\n",
        "acc = 100 * correct / total \n",
        "print('Accuracy of the network on the 10000 test images: {:2.2f}% Loss:{:2.2f}'.format (acc, val_loss))"
      ],
      "execution_count": 37,
      "outputs": [
        {
          "output_type": "stream",
          "text": [
            "Accuracy of the network on the 10000 test images: 57.01% Loss:1.22\n"
          ],
          "name": "stdout"
        }
      ]
    },
    {
      "cell_type": "markdown",
      "metadata": {
        "id": "_Fi0-xccUqrJ"
      },
      "source": [
        "# Experiment"
      ]
    },
    {
      "cell_type": "code",
      "metadata": {
        "id": "MrbsIMIkWLuo"
      },
      "source": [
        "def experiment(args):\n",
        "\n",
        "  net = MLP(args.in_dim, args.out_dim, args.hid_dim, args.n_layer, args.act)\n",
        "  print(net)\n",
        "\n",
        "  criterion = nn.CrossEntropyLoss()\n",
        "  optimizer = optim.SGD(net.parameters(), lr=args.lr, momentum=args.mm)\n",
        "\n",
        "\n",
        "  for epoch in range(args.epoch):  # loop over the dataset multiple times\n",
        "\n",
        "    # ======== Train ========== #\n",
        "      running_loss = 0.0\n",
        "      train_loss = 0.0 \n",
        "      for i, data in enumerate(trainloader, 0):\n",
        "          # get the inputs; data is a list of [inputs, labels]\n",
        "          inputs, labels = data  \n",
        "          inputs = inputs.view(-1, 3072)      # -1의 의미: 지정한 dimension을 맞추고 난 다음, 남아있는 dimension을 몫으로 채워준다는 것을 의미\n",
        "                                              # 즉, (-1, 3072): view기능은 -1자리에 3072를 나눈 값이 들어옴 / **view는 차원을 다루고자 할 때 쉽게 manipulation할 수 있음\n",
        "          #print(inputs.shape) #4*3*32*32(12288) 한 batch에는 한 element가 들어가 있음, 쭉 일렬로 늘려놓으면 12288개의 tensor가 됨 \n",
        "\n",
        "          # zero the parameter gradients\n",
        "          optimizer.zero_grad()\n",
        "\n",
        "          # forward + backward + optimize\n",
        "          outputs = net(inputs)\n",
        "          loss = criterion(outputs, labels)\n",
        "          loss.backward()\n",
        "          optimizer.step()\n",
        "\n",
        "          # print statistics\n",
        "          running_loss += loss.item()\n",
        "          train_loss += loss.item()\n",
        "          if i % 2000 == 1999:    # print every 2000 mini-batches\n",
        "              print('[%d, %5d] loss: %.3f' %\n",
        "                    (epoch + 1, i + 1, running_loss / 2000))\n",
        "\n",
        "\n",
        "\n",
        "      # ===== Measure Validation Loss, Accuracy ========== # \n",
        "      correct = 0\n",
        "      total = 0\n",
        "      val_loss = 0 \n",
        "      \n",
        "      with torch.no_grad():\n",
        "          for data in valloader:\n",
        "              images, labels = data\n",
        "              images = images.view(-1, 3072)\n",
        "              outputs = net(images)\n",
        "              \n",
        "              ###############\n",
        "              loss = criterion(outputs, labels)\n",
        "              val_loss += loss.item()\n",
        "              ###############\n",
        "            \n",
        "              _, predicted = torch.max(outputs.data, 1)\n",
        "              total += labels.size(0)\n",
        "              correct += (predicted == labels).sum().item()\n",
        "          \n",
        "          ###############\n",
        "          #print(len(valloader))\n",
        "          val_loss = val_loss/ len(valloader)  #batch로 나눠줌 (1000개의 data를 4개로 나눠줌=2500)\n",
        "          val_acc = 100 * correct / total \n",
        "          #print(val_loss)\n",
        "          ##############\n",
        "\n",
        "  print('Epoch: {}, Train Loss: {}, Val Loss: {},  Va Acc: {}'.format(epoch, train_loss, val_loss, val_acc))"
      ],
      "execution_count": 54,
      "outputs": []
    },
    {
      "cell_type": "code",
      "metadata": {
        "colab": {
          "base_uri": "https://localhost:8080/"
        },
        "id": "d2Zm3rgMU3H-",
        "outputId": "9a90369a-9553-4547-e533-db5ae98797d8"
      },
      "source": [
        "import argparse\n",
        "\n",
        "seed = 123\n",
        "np.random.seed(seed)\n",
        "torch.manual_seed(seed)\n",
        "\n",
        "parser = argparse.ArgumentParser()\n",
        "args = parser.parse_args(\"\")      #terminal이 아니라 jupyter이기 때문에 \"\"를 써줌\n",
        "\n",
        "args.n_layer = 5\n",
        "args.in_dim = 3072\n",
        "args.out_dim = 10\n",
        "args.hid_dim = 100\n",
        "args.act = 'relu'\n",
        "\n",
        "args.lr = 0.001\n",
        "args.mm = 0.9\n",
        "args.epoch = 2\n",
        "\n",
        "experiment(args)\n"
      ],
      "execution_count": 55,
      "outputs": [
        {
          "output_type": "stream",
          "text": [
            "MLP(\n",
            "  (fc): Linear(in_features=3072, out_features=100, bias=True)\n",
            "  (linears): ModuleList(\n",
            "    (0): Linear(in_features=100, out_features=100, bias=True)\n",
            "    (1): Linear(in_features=100, out_features=100, bias=True)\n",
            "    (2): Linear(in_features=100, out_features=100, bias=True)\n",
            "    (3): Linear(in_features=100, out_features=100, bias=True)\n",
            "  )\n",
            "  (fc2): Linear(in_features=100, out_features=10, bias=True)\n",
            "  (act): ReLU()\n",
            ")\n",
            "[1,  2000] loss: 2.296\n",
            "[1,  4000] loss: 4.395\n",
            "[1,  6000] loss: 6.309\n",
            "[1,  8000] loss: 8.100\n",
            "[1, 10000] loss: 9.818\n",
            "[2,  2000] loss: 1.653\n",
            "[2,  4000] loss: 3.291\n",
            "[2,  6000] loss: 4.901\n",
            "[2,  8000] loss: 6.464\n",
            "[2, 10000] loss: 8.028\n",
            "Epoch: 1, Train Loss: 16055.945657581091, Val Loss: 1.5945568535327912,  Va Acc: 43.32\n"
          ],
          "name": "stdout"
        }
      ]
    },
    {
      "cell_type": "markdown",
      "metadata": {
        "id": "iGv0MAWXXd8d"
      },
      "source": [
        "### Cuda "
      ]
    },
    {
      "cell_type": "code",
      "metadata": {
        "id": "QUKWAxFTU75N"
      },
      "source": [
        "# ======== cuda 사용 ============== #\n",
        "\n",
        "def experiment(args):\n",
        "\n",
        "  net = MLP(args.in_dim, args.out_dim, args.hid_dim, args.n_layer, args.act)\n",
        "  #######################\n",
        "  net.cuda()\n",
        "\n",
        "  print(net)\n",
        "\n",
        "  criterion = nn.CrossEntropyLoss()\n",
        "  optimizer = optim.SGD(net.parameters(), lr=args.lr, momentum=args.mm)\n",
        "\n",
        "\n",
        "  for epoch in range(args.epoch):  # loop over the dataset multiple times\n",
        "\n",
        "    # ======== Train ========== #\n",
        "      running_loss = 0.0\n",
        "      train_loss = 0.0\n",
        "\n",
        "      for i, data in enumerate(trainloader, 0):\n",
        "          # get the inputs; data is a list of [inputs, labels]\n",
        "          inputs, labels = data  \n",
        "          inputs = inputs.view(-1, 3072)      # -1의 의미: 지정한 dimension을 맞추고 난 다음, 남아있는 dimension을 몫으로 채워준다는 것을 의미\n",
        "                                              # 즉, (-1, 3072): view기능은 -1자리에 3072를 나눈 값이 들어옴 / **view는 차원을 다루고자 할 때 쉽게 manipulation할 수 있음\n",
        "          #print(inputs.shape) #4*3*32*32(12288) 한 batch에는 한 element가 들어가 있음, 쭉 일렬로 늘려놓으면 12288개의 tensor가 됨 \n",
        "          ##############################################\n",
        "          inputs = inputs.cuda()\n",
        "          labels = labels.cuda()\n",
        "\n",
        "\n",
        "          # zero the parameter gradients\n",
        "          optimizer.zero_grad()\n",
        "\n",
        "          # forward + backward + optimize\n",
        "          outputs = net(inputs)\n",
        "          loss = criterion(outputs, labels)\n",
        "          loss.backward()\n",
        "          optimizer.step()\n",
        "\n",
        "          # print statistics\n",
        "          running_loss += loss.item()\n",
        "          train_loss += loss.item()\n",
        "          if i % 2000 == 1999:    # print every 2000 mini-batches\n",
        "              print('[%d, %5d] loss: %.3f' %\n",
        "                    (epoch + 1, i + 1, running_loss / 2000))\n",
        "\n",
        "\n",
        "      # ===== Measure Validation Loss, Accuracy ========== # \n",
        "      correct = 0\n",
        "      total = 0\n",
        "      val_loss = 0 \n",
        "      \n",
        "      with torch.no_grad():\n",
        "          for data in valloader:\n",
        "              images, labels = data\n",
        "              images = images.view(-1, 3072)\n",
        "\n",
        "              ######################################\n",
        "              images = images.cuda()\n",
        "              labels = labels.cuda()\n",
        "\n",
        "              outputs = net(images)\n",
        "              \n",
        "              ###############\n",
        "              loss = criterion(outputs, labels)\n",
        "              val_loss += loss.item()\n",
        "              ###############\n",
        "            \n",
        "              _, predicted = torch.max(outputs.data, 1)\n",
        "              total += labels.size(0)\n",
        "              correct += (predicted == labels).sum().item()\n",
        "          \n",
        "          ###############\n",
        "          #print(len(valloader))\n",
        "          val_loss = val_loss/ len(valloader)  #batch로 나눠줌 (1000개의 data를 4개로 나눠줌=2500)\n",
        "          val_acc = 100 * correct / total \n",
        "          #print(val_loss)\n",
        "          ##############\n",
        "\n",
        "  print('Epoch: {}, Train Loss: {}, Val Loss: {},  Va Acc: {}'.format(epoch, train_loss, val_loss, val_acc))\n",
        "\n",
        "\n",
        "  # ===== Evaluation ========== # \n",
        "  correct = 0\n",
        "  total = 0\n",
        "  with torch.no_grad():\n",
        "      for data in testloader:\n",
        "          images, labels = data\n",
        "          images = images.view(-1, 3072)\n",
        "          images = images.cuda()\n",
        "          labels = labels.cuda()\n",
        "\n",
        "          outputs = net(images)\n",
        "          _, predicted = torch.max(outputs.data, 1)\n",
        "          total += labels.size(0)\n",
        "          correct += (predicted == labels).sum().item()\n",
        "      \n",
        "      test_acc = 100 * correct / total\n",
        "    \n",
        "\n",
        "  "
      ],
      "execution_count": 63,
      "outputs": []
    },
    {
      "cell_type": "code",
      "metadata": {
        "colab": {
          "base_uri": "https://localhost:8080/"
        },
        "id": "U93O2EpLa46v",
        "outputId": "66b0a444-4a0c-48a3-f559-67b380d07e33"
      },
      "source": [
        "import argparse\n",
        "\n",
        "seed = 123\n",
        "np.random.seed(seed)\n",
        "torch.manual_seed(seed)\n",
        "\n",
        "parser = argparse.ArgumentParser()\n",
        "args = parser.parse_args(\"\")      #terminal이 아니라 jupyter이기 때문에 \"\"를 써줌\n",
        "\n",
        "args.n_layer = 5\n",
        "args.in_dim = 3072\n",
        "args.out_dim = 10\n",
        "args.hid_dim = 100\n",
        "args.act = 'relu'\n",
        "\n",
        "args.lr = 0.001\n",
        "args.mm = 0.9\n",
        "args.epoch = 2\n",
        "\n",
        "list_var1 = [4, 5, 6]\n",
        "list_var2 = [50, 100, 150]\n",
        "\n",
        "for var1 in list_var1:\n",
        "  for var2 in list_var2:\n",
        "    args.n_layer = var1\n",
        "    args.hid_dim = var2\n",
        "    result = experiment(args)\n",
        "    print(result)"
      ],
      "execution_count": 64,
      "outputs": [
        {
          "output_type": "stream",
          "text": [
            "MLP(\n",
            "  (fc): Linear(in_features=3072, out_features=50, bias=True)\n",
            "  (linears): ModuleList(\n",
            "    (0): Linear(in_features=50, out_features=50, bias=True)\n",
            "    (1): Linear(in_features=50, out_features=50, bias=True)\n",
            "    (2): Linear(in_features=50, out_features=50, bias=True)\n",
            "  )\n",
            "  (fc2): Linear(in_features=50, out_features=10, bias=True)\n",
            "  (act): ReLU()\n",
            ")\n",
            "[1,  2000] loss: 2.193\n",
            "[1,  4000] loss: 4.083\n",
            "[1,  6000] loss: 5.850\n",
            "[1,  8000] loss: 7.568\n",
            "[1, 10000] loss: 9.252\n",
            "[2,  2000] loss: 1.616\n",
            "[2,  4000] loss: 3.228\n",
            "[2,  6000] loss: 4.805\n",
            "[2,  8000] loss: 6.393\n",
            "[2, 10000] loss: 7.928\n",
            "Epoch: 1, Train Loss: 15856.401718229055, Val Loss: 1.567282311272621,  Va Acc: 44.45\n",
            "None\n",
            "MLP(\n",
            "  (fc): Linear(in_features=3072, out_features=100, bias=True)\n",
            "  (linears): ModuleList(\n",
            "    (0): Linear(in_features=100, out_features=100, bias=True)\n",
            "    (1): Linear(in_features=100, out_features=100, bias=True)\n",
            "    (2): Linear(in_features=100, out_features=100, bias=True)\n",
            "  )\n",
            "  (fc2): Linear(in_features=100, out_features=10, bias=True)\n",
            "  (act): ReLU()\n",
            ")\n",
            "[1,  2000] loss: 2.237\n",
            "[1,  4000] loss: 4.158\n",
            "[1,  6000] loss: 5.940\n",
            "[1,  8000] loss: 7.655\n",
            "[1, 10000] loss: 9.304\n",
            "[2,  2000] loss: 1.601\n",
            "[2,  4000] loss: 3.165\n",
            "[2,  6000] loss: 4.727\n",
            "[2,  8000] loss: 6.266\n",
            "[2, 10000] loss: 7.788\n",
            "Epoch: 1, Train Loss: 15575.268302634358, Val Loss: 1.524267762696743,  Va Acc: 45.13\n",
            "None\n",
            "MLP(\n",
            "  (fc): Linear(in_features=3072, out_features=150, bias=True)\n",
            "  (linears): ModuleList(\n",
            "    (0): Linear(in_features=150, out_features=150, bias=True)\n",
            "    (1): Linear(in_features=150, out_features=150, bias=True)\n",
            "    (2): Linear(in_features=150, out_features=150, bias=True)\n",
            "  )\n",
            "  (fc2): Linear(in_features=150, out_features=10, bias=True)\n",
            "  (act): ReLU()\n",
            ")\n",
            "[1,  2000] loss: 2.194\n",
            "[1,  4000] loss: 4.072\n",
            "[1,  6000] loss: 5.839\n",
            "[1,  8000] loss: 7.524\n",
            "[1, 10000] loss: 9.178\n",
            "[2,  2000] loss: 1.572\n",
            "[2,  4000] loss: 3.142\n",
            "[2,  6000] loss: 4.678\n",
            "[2,  8000] loss: 6.212\n",
            "[2, 10000] loss: 7.699\n",
            "Epoch: 1, Train Loss: 15398.144287139177, Val Loss: 1.516558611637354,  Va Acc: 46.04\n",
            "None\n",
            "MLP(\n",
            "  (fc): Linear(in_features=3072, out_features=50, bias=True)\n",
            "  (linears): ModuleList(\n",
            "    (0): Linear(in_features=50, out_features=50, bias=True)\n",
            "    (1): Linear(in_features=50, out_features=50, bias=True)\n",
            "    (2): Linear(in_features=50, out_features=50, bias=True)\n",
            "    (3): Linear(in_features=50, out_features=50, bias=True)\n",
            "  )\n",
            "  (fc2): Linear(in_features=50, out_features=10, bias=True)\n",
            "  (act): ReLU()\n",
            ")\n",
            "[1,  2000] loss: 2.297\n",
            "[1,  4000] loss: 4.404\n",
            "[1,  6000] loss: 6.336\n",
            "[1,  8000] loss: 8.173\n",
            "[1, 10000] loss: 9.943\n",
            "[2,  2000] loss: 1.695\n",
            "[2,  4000] loss: 3.359\n",
            "[2,  6000] loss: 5.016\n",
            "[2,  8000] loss: 6.655\n",
            "[2, 10000] loss: 8.269\n",
            "Epoch: 1, Train Loss: 16537.591718107462, Val Loss: 1.6173893756628037,  Va Acc: 41.83\n",
            "None\n",
            "MLP(\n",
            "  (fc): Linear(in_features=3072, out_features=100, bias=True)\n",
            "  (linears): ModuleList(\n",
            "    (0): Linear(in_features=100, out_features=100, bias=True)\n",
            "    (1): Linear(in_features=100, out_features=100, bias=True)\n",
            "    (2): Linear(in_features=100, out_features=100, bias=True)\n",
            "    (3): Linear(in_features=100, out_features=100, bias=True)\n",
            "  )\n",
            "  (fc2): Linear(in_features=100, out_features=10, bias=True)\n",
            "  (act): ReLU()\n",
            ")\n",
            "[1,  2000] loss: 2.289\n",
            "[1,  4000] loss: 4.340\n",
            "[1,  6000] loss: 6.227\n",
            "[1,  8000] loss: 8.006\n",
            "[1, 10000] loss: 9.716\n",
            "[2,  2000] loss: 1.647\n",
            "[2,  4000] loss: 3.279\n",
            "[2,  6000] loss: 4.875\n",
            "[2,  8000] loss: 6.432\n",
            "[2, 10000] loss: 8.001\n",
            "Epoch: 1, Train Loss: 16002.495279371738, Val Loss: 1.5615731469750405,  Va Acc: 43.98\n",
            "None\n",
            "MLP(\n",
            "  (fc): Linear(in_features=3072, out_features=150, bias=True)\n",
            "  (linears): ModuleList(\n",
            "    (0): Linear(in_features=150, out_features=150, bias=True)\n",
            "    (1): Linear(in_features=150, out_features=150, bias=True)\n",
            "    (2): Linear(in_features=150, out_features=150, bias=True)\n",
            "    (3): Linear(in_features=150, out_features=150, bias=True)\n",
            "  )\n",
            "  (fc2): Linear(in_features=150, out_features=10, bias=True)\n",
            "  (act): ReLU()\n",
            ")\n",
            "[1,  2000] loss: 2.300\n",
            "[1,  4000] loss: 4.433\n",
            "[1,  6000] loss: 6.360\n",
            "[1,  8000] loss: 8.179\n",
            "[1, 10000] loss: 9.906\n",
            "[2,  2000] loss: 1.671\n",
            "[2,  4000] loss: 3.303\n",
            "[2,  6000] loss: 4.901\n",
            "[2,  8000] loss: 6.483\n",
            "[2, 10000] loss: 8.031\n",
            "Epoch: 1, Train Loss: 16061.798189744353, Val Loss: 1.5614893969655037,  Va Acc: 44.65\n",
            "None\n",
            "MLP(\n",
            "  (fc): Linear(in_features=3072, out_features=50, bias=True)\n",
            "  (linears): ModuleList(\n",
            "    (0): Linear(in_features=50, out_features=50, bias=True)\n",
            "    (1): Linear(in_features=50, out_features=50, bias=True)\n",
            "    (2): Linear(in_features=50, out_features=50, bias=True)\n",
            "    (3): Linear(in_features=50, out_features=50, bias=True)\n",
            "    (4): Linear(in_features=50, out_features=50, bias=True)\n",
            "  )\n",
            "  (fc2): Linear(in_features=50, out_features=10, bias=True)\n",
            "  (act): ReLU()\n",
            ")\n",
            "[1,  2000] loss: 2.302\n",
            "[1,  4000] loss: 4.596\n",
            "[1,  6000] loss: 6.730\n",
            "[1,  8000] loss: 8.760\n",
            "[1, 10000] loss: 10.690\n",
            "[2,  2000] loss: 1.873\n",
            "[2,  4000] loss: 3.701\n",
            "[2,  6000] loss: 5.494\n",
            "[2,  8000] loss: 7.255\n",
            "[2, 10000] loss: 8.966\n",
            "Epoch: 1, Train Loss: 17931.496156454086, Val Loss: 1.7161433515071869,  Va Acc: 37.86\n",
            "None\n",
            "MLP(\n",
            "  (fc): Linear(in_features=3072, out_features=100, bias=True)\n",
            "  (linears): ModuleList(\n",
            "    (0): Linear(in_features=100, out_features=100, bias=True)\n",
            "    (1): Linear(in_features=100, out_features=100, bias=True)\n",
            "    (2): Linear(in_features=100, out_features=100, bias=True)\n",
            "    (3): Linear(in_features=100, out_features=100, bias=True)\n",
            "    (4): Linear(in_features=100, out_features=100, bias=True)\n",
            "  )\n",
            "  (fc2): Linear(in_features=100, out_features=10, bias=True)\n",
            "  (act): ReLU()\n",
            ")\n",
            "[1,  2000] loss: 2.302\n",
            "[1,  4000] loss: 4.562\n",
            "[1,  6000] loss: 6.601\n",
            "[1,  8000] loss: 8.512\n",
            "[1, 10000] loss: 10.367\n",
            "[2,  2000] loss: 1.761\n",
            "[2,  4000] loss: 3.488\n",
            "[2,  6000] loss: 5.151\n",
            "[2,  8000] loss: 6.781\n",
            "[2, 10000] loss: 8.406\n",
            "Epoch: 1, Train Loss: 16812.0174279809, Val Loss: 1.631661381340027,  Va Acc: 40.84\n",
            "None\n",
            "MLP(\n",
            "  (fc): Linear(in_features=3072, out_features=150, bias=True)\n",
            "  (linears): ModuleList(\n",
            "    (0): Linear(in_features=150, out_features=150, bias=True)\n",
            "    (1): Linear(in_features=150, out_features=150, bias=True)\n",
            "    (2): Linear(in_features=150, out_features=150, bias=True)\n",
            "    (3): Linear(in_features=150, out_features=150, bias=True)\n",
            "    (4): Linear(in_features=150, out_features=150, bias=True)\n",
            "  )\n",
            "  (fc2): Linear(in_features=150, out_features=10, bias=True)\n",
            "  (act): ReLU()\n",
            ")\n",
            "[1,  2000] loss: 2.302\n",
            "[1,  4000] loss: 4.579\n",
            "[1,  6000] loss: 6.611\n",
            "[1,  8000] loss: 8.543\n",
            "[1, 10000] loss: 10.407\n",
            "[2,  2000] loss: 1.808\n",
            "[2,  4000] loss: 3.552\n",
            "[2,  6000] loss: 5.237\n",
            "[2,  8000] loss: 6.889\n",
            "[2, 10000] loss: 8.514\n",
            "Epoch: 1, Train Loss: 17028.641402363777, Val Loss: 1.597535915005207,  Va Acc: 42.69\n",
            "None\n"
          ],
          "name": "stdout"
        }
      ]
    },
    {
      "cell_type": "code",
      "metadata": {
        "id": "XBL0hTCec2jf"
      },
      "source": [
        ""
      ],
      "execution_count": null,
      "outputs": []
    }
  ]
}
