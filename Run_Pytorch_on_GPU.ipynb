{
  "nbformat": 4,
  "nbformat_minor": 0,
  "metadata": {
    "colab": {
      "name": "Run_Pytorch_on_GPU.ipynb",
      "provenance": [],
      "authorship_tag": "ABX9TyONg9DtTxb22aLPv/mU0sau"
    },
    "kernelspec": {
      "name": "python3",
      "display_name": "Python 3"
    },
    "accelerator": "GPU",
    "widgets": {
      "application/vnd.jupyter.widget-state+json": {
        "fb2abacabb8e4b4ba14c76b42e2b7945": {
          "model_module": "@jupyter-widgets/controls",
          "model_name": "HBoxModel",
          "state": {
            "_view_name": "HBoxView",
            "_dom_classes": [],
            "_model_name": "HBoxModel",
            "_view_module": "@jupyter-widgets/controls",
            "_model_module_version": "1.5.0",
            "_view_count": null,
            "_view_module_version": "1.5.0",
            "box_style": "",
            "layout": "IPY_MODEL_7452d3a40ef74fd98d423e22de11e1aa",
            "_model_module": "@jupyter-widgets/controls",
            "children": [
              "IPY_MODEL_4510e812270e4693a3ec18217af14d66",
              "IPY_MODEL_bd5dab5ded4940eda464981e5b6b9600"
            ]
          }
        },
        "7452d3a40ef74fd98d423e22de11e1aa": {
          "model_module": "@jupyter-widgets/base",
          "model_name": "LayoutModel",
          "state": {
            "_view_name": "LayoutView",
            "grid_template_rows": null,
            "right": null,
            "justify_content": null,
            "_view_module": "@jupyter-widgets/base",
            "overflow": null,
            "_model_module_version": "1.2.0",
            "_view_count": null,
            "flex_flow": null,
            "width": null,
            "min_width": null,
            "border": null,
            "align_items": null,
            "bottom": null,
            "_model_module": "@jupyter-widgets/base",
            "top": null,
            "grid_column": null,
            "overflow_y": null,
            "overflow_x": null,
            "grid_auto_flow": null,
            "grid_area": null,
            "grid_template_columns": null,
            "flex": null,
            "_model_name": "LayoutModel",
            "justify_items": null,
            "grid_row": null,
            "max_height": null,
            "align_content": null,
            "visibility": null,
            "align_self": null,
            "height": null,
            "min_height": null,
            "padding": null,
            "grid_auto_rows": null,
            "grid_gap": null,
            "max_width": null,
            "order": null,
            "_view_module_version": "1.2.0",
            "grid_template_areas": null,
            "object_position": null,
            "object_fit": null,
            "grid_auto_columns": null,
            "margin": null,
            "display": null,
            "left": null
          }
        },
        "4510e812270e4693a3ec18217af14d66": {
          "model_module": "@jupyter-widgets/controls",
          "model_name": "FloatProgressModel",
          "state": {
            "_view_name": "ProgressView",
            "style": "IPY_MODEL_fd4cf6c6d19b41ed9a7f74796648b3e1",
            "_dom_classes": [],
            "description": "",
            "_model_name": "FloatProgressModel",
            "bar_style": "success",
            "max": 1,
            "_view_module": "@jupyter-widgets/controls",
            "_model_module_version": "1.5.0",
            "value": 1,
            "_view_count": null,
            "_view_module_version": "1.5.0",
            "orientation": "horizontal",
            "min": 0,
            "description_tooltip": null,
            "_model_module": "@jupyter-widgets/controls",
            "layout": "IPY_MODEL_de5f6a728f6349ad80acf2d38da50c0a"
          }
        },
        "bd5dab5ded4940eda464981e5b6b9600": {
          "model_module": "@jupyter-widgets/controls",
          "model_name": "HTMLModel",
          "state": {
            "_view_name": "HTMLView",
            "style": "IPY_MODEL_78cbf22daf9445f986a9b55e139bbfbd",
            "_dom_classes": [],
            "description": "",
            "_model_name": "HTMLModel",
            "placeholder": "​",
            "_view_module": "@jupyter-widgets/controls",
            "_model_module_version": "1.5.0",
            "value": " 9920512/? [00:09&lt;00:00, 1078796.20it/s]",
            "_view_count": null,
            "_view_module_version": "1.5.0",
            "description_tooltip": null,
            "_model_module": "@jupyter-widgets/controls",
            "layout": "IPY_MODEL_531dd4a6f7384bda83e31ce6b7b1530b"
          }
        },
        "fd4cf6c6d19b41ed9a7f74796648b3e1": {
          "model_module": "@jupyter-widgets/controls",
          "model_name": "ProgressStyleModel",
          "state": {
            "_view_name": "StyleView",
            "_model_name": "ProgressStyleModel",
            "description_width": "initial",
            "_view_module": "@jupyter-widgets/base",
            "_model_module_version": "1.5.0",
            "_view_count": null,
            "_view_module_version": "1.2.0",
            "bar_color": null,
            "_model_module": "@jupyter-widgets/controls"
          }
        },
        "de5f6a728f6349ad80acf2d38da50c0a": {
          "model_module": "@jupyter-widgets/base",
          "model_name": "LayoutModel",
          "state": {
            "_view_name": "LayoutView",
            "grid_template_rows": null,
            "right": null,
            "justify_content": null,
            "_view_module": "@jupyter-widgets/base",
            "overflow": null,
            "_model_module_version": "1.2.0",
            "_view_count": null,
            "flex_flow": null,
            "width": null,
            "min_width": null,
            "border": null,
            "align_items": null,
            "bottom": null,
            "_model_module": "@jupyter-widgets/base",
            "top": null,
            "grid_column": null,
            "overflow_y": null,
            "overflow_x": null,
            "grid_auto_flow": null,
            "grid_area": null,
            "grid_template_columns": null,
            "flex": null,
            "_model_name": "LayoutModel",
            "justify_items": null,
            "grid_row": null,
            "max_height": null,
            "align_content": null,
            "visibility": null,
            "align_self": null,
            "height": null,
            "min_height": null,
            "padding": null,
            "grid_auto_rows": null,
            "grid_gap": null,
            "max_width": null,
            "order": null,
            "_view_module_version": "1.2.0",
            "grid_template_areas": null,
            "object_position": null,
            "object_fit": null,
            "grid_auto_columns": null,
            "margin": null,
            "display": null,
            "left": null
          }
        },
        "78cbf22daf9445f986a9b55e139bbfbd": {
          "model_module": "@jupyter-widgets/controls",
          "model_name": "DescriptionStyleModel",
          "state": {
            "_view_name": "StyleView",
            "_model_name": "DescriptionStyleModel",
            "description_width": "",
            "_view_module": "@jupyter-widgets/base",
            "_model_module_version": "1.5.0",
            "_view_count": null,
            "_view_module_version": "1.2.0",
            "_model_module": "@jupyter-widgets/controls"
          }
        },
        "531dd4a6f7384bda83e31ce6b7b1530b": {
          "model_module": "@jupyter-widgets/base",
          "model_name": "LayoutModel",
          "state": {
            "_view_name": "LayoutView",
            "grid_template_rows": null,
            "right": null,
            "justify_content": null,
            "_view_module": "@jupyter-widgets/base",
            "overflow": null,
            "_model_module_version": "1.2.0",
            "_view_count": null,
            "flex_flow": null,
            "width": null,
            "min_width": null,
            "border": null,
            "align_items": null,
            "bottom": null,
            "_model_module": "@jupyter-widgets/base",
            "top": null,
            "grid_column": null,
            "overflow_y": null,
            "overflow_x": null,
            "grid_auto_flow": null,
            "grid_area": null,
            "grid_template_columns": null,
            "flex": null,
            "_model_name": "LayoutModel",
            "justify_items": null,
            "grid_row": null,
            "max_height": null,
            "align_content": null,
            "visibility": null,
            "align_self": null,
            "height": null,
            "min_height": null,
            "padding": null,
            "grid_auto_rows": null,
            "grid_gap": null,
            "max_width": null,
            "order": null,
            "_view_module_version": "1.2.0",
            "grid_template_areas": null,
            "object_position": null,
            "object_fit": null,
            "grid_auto_columns": null,
            "margin": null,
            "display": null,
            "left": null
          }
        },
        "ee7c8a9118034266b81fee9dc9031df5": {
          "model_module": "@jupyter-widgets/controls",
          "model_name": "HBoxModel",
          "state": {
            "_view_name": "HBoxView",
            "_dom_classes": [],
            "_model_name": "HBoxModel",
            "_view_module": "@jupyter-widgets/controls",
            "_model_module_version": "1.5.0",
            "_view_count": null,
            "_view_module_version": "1.5.0",
            "box_style": "",
            "layout": "IPY_MODEL_2cca19e19141460d9062f19745aac46a",
            "_model_module": "@jupyter-widgets/controls",
            "children": [
              "IPY_MODEL_7cb8759fae6e4331bb8a099bfa10e8f6",
              "IPY_MODEL_236fcce0718a41aba915037735f42075"
            ]
          }
        },
        "2cca19e19141460d9062f19745aac46a": {
          "model_module": "@jupyter-widgets/base",
          "model_name": "LayoutModel",
          "state": {
            "_view_name": "LayoutView",
            "grid_template_rows": null,
            "right": null,
            "justify_content": null,
            "_view_module": "@jupyter-widgets/base",
            "overflow": null,
            "_model_module_version": "1.2.0",
            "_view_count": null,
            "flex_flow": null,
            "width": null,
            "min_width": null,
            "border": null,
            "align_items": null,
            "bottom": null,
            "_model_module": "@jupyter-widgets/base",
            "top": null,
            "grid_column": null,
            "overflow_y": null,
            "overflow_x": null,
            "grid_auto_flow": null,
            "grid_area": null,
            "grid_template_columns": null,
            "flex": null,
            "_model_name": "LayoutModel",
            "justify_items": null,
            "grid_row": null,
            "max_height": null,
            "align_content": null,
            "visibility": null,
            "align_self": null,
            "height": null,
            "min_height": null,
            "padding": null,
            "grid_auto_rows": null,
            "grid_gap": null,
            "max_width": null,
            "order": null,
            "_view_module_version": "1.2.0",
            "grid_template_areas": null,
            "object_position": null,
            "object_fit": null,
            "grid_auto_columns": null,
            "margin": null,
            "display": null,
            "left": null
          }
        },
        "7cb8759fae6e4331bb8a099bfa10e8f6": {
          "model_module": "@jupyter-widgets/controls",
          "model_name": "FloatProgressModel",
          "state": {
            "_view_name": "ProgressView",
            "style": "IPY_MODEL_752d5400d9574f3592383a7893546713",
            "_dom_classes": [],
            "description": "",
            "_model_name": "FloatProgressModel",
            "bar_style": "success",
            "max": 1,
            "_view_module": "@jupyter-widgets/controls",
            "_model_module_version": "1.5.0",
            "value": 1,
            "_view_count": null,
            "_view_module_version": "1.5.0",
            "orientation": "horizontal",
            "min": 0,
            "description_tooltip": null,
            "_model_module": "@jupyter-widgets/controls",
            "layout": "IPY_MODEL_559a95d604934522ae1bed018828a3e8"
          }
        },
        "236fcce0718a41aba915037735f42075": {
          "model_module": "@jupyter-widgets/controls",
          "model_name": "HTMLModel",
          "state": {
            "_view_name": "HTMLView",
            "style": "IPY_MODEL_a36540a6e37a4130880323e52c47b136",
            "_dom_classes": [],
            "description": "",
            "_model_name": "HTMLModel",
            "placeholder": "​",
            "_view_module": "@jupyter-widgets/controls",
            "_model_module_version": "1.5.0",
            "value": " 32768/? [00:00&lt;00:00, 386151.25it/s]",
            "_view_count": null,
            "_view_module_version": "1.5.0",
            "description_tooltip": null,
            "_model_module": "@jupyter-widgets/controls",
            "layout": "IPY_MODEL_73485af94cac4cc98c42702ace11263a"
          }
        },
        "752d5400d9574f3592383a7893546713": {
          "model_module": "@jupyter-widgets/controls",
          "model_name": "ProgressStyleModel",
          "state": {
            "_view_name": "StyleView",
            "_model_name": "ProgressStyleModel",
            "description_width": "initial",
            "_view_module": "@jupyter-widgets/base",
            "_model_module_version": "1.5.0",
            "_view_count": null,
            "_view_module_version": "1.2.0",
            "bar_color": null,
            "_model_module": "@jupyter-widgets/controls"
          }
        },
        "559a95d604934522ae1bed018828a3e8": {
          "model_module": "@jupyter-widgets/base",
          "model_name": "LayoutModel",
          "state": {
            "_view_name": "LayoutView",
            "grid_template_rows": null,
            "right": null,
            "justify_content": null,
            "_view_module": "@jupyter-widgets/base",
            "overflow": null,
            "_model_module_version": "1.2.0",
            "_view_count": null,
            "flex_flow": null,
            "width": null,
            "min_width": null,
            "border": null,
            "align_items": null,
            "bottom": null,
            "_model_module": "@jupyter-widgets/base",
            "top": null,
            "grid_column": null,
            "overflow_y": null,
            "overflow_x": null,
            "grid_auto_flow": null,
            "grid_area": null,
            "grid_template_columns": null,
            "flex": null,
            "_model_name": "LayoutModel",
            "justify_items": null,
            "grid_row": null,
            "max_height": null,
            "align_content": null,
            "visibility": null,
            "align_self": null,
            "height": null,
            "min_height": null,
            "padding": null,
            "grid_auto_rows": null,
            "grid_gap": null,
            "max_width": null,
            "order": null,
            "_view_module_version": "1.2.0",
            "grid_template_areas": null,
            "object_position": null,
            "object_fit": null,
            "grid_auto_columns": null,
            "margin": null,
            "display": null,
            "left": null
          }
        },
        "a36540a6e37a4130880323e52c47b136": {
          "model_module": "@jupyter-widgets/controls",
          "model_name": "DescriptionStyleModel",
          "state": {
            "_view_name": "StyleView",
            "_model_name": "DescriptionStyleModel",
            "description_width": "",
            "_view_module": "@jupyter-widgets/base",
            "_model_module_version": "1.5.0",
            "_view_count": null,
            "_view_module_version": "1.2.0",
            "_model_module": "@jupyter-widgets/controls"
          }
        },
        "73485af94cac4cc98c42702ace11263a": {
          "model_module": "@jupyter-widgets/base",
          "model_name": "LayoutModel",
          "state": {
            "_view_name": "LayoutView",
            "grid_template_rows": null,
            "right": null,
            "justify_content": null,
            "_view_module": "@jupyter-widgets/base",
            "overflow": null,
            "_model_module_version": "1.2.0",
            "_view_count": null,
            "flex_flow": null,
            "width": null,
            "min_width": null,
            "border": null,
            "align_items": null,
            "bottom": null,
            "_model_module": "@jupyter-widgets/base",
            "top": null,
            "grid_column": null,
            "overflow_y": null,
            "overflow_x": null,
            "grid_auto_flow": null,
            "grid_area": null,
            "grid_template_columns": null,
            "flex": null,
            "_model_name": "LayoutModel",
            "justify_items": null,
            "grid_row": null,
            "max_height": null,
            "align_content": null,
            "visibility": null,
            "align_self": null,
            "height": null,
            "min_height": null,
            "padding": null,
            "grid_auto_rows": null,
            "grid_gap": null,
            "max_width": null,
            "order": null,
            "_view_module_version": "1.2.0",
            "grid_template_areas": null,
            "object_position": null,
            "object_fit": null,
            "grid_auto_columns": null,
            "margin": null,
            "display": null,
            "left": null
          }
        },
        "d91631328449427bbe226c8d42614c7c": {
          "model_module": "@jupyter-widgets/controls",
          "model_name": "HBoxModel",
          "state": {
            "_view_name": "HBoxView",
            "_dom_classes": [],
            "_model_name": "HBoxModel",
            "_view_module": "@jupyter-widgets/controls",
            "_model_module_version": "1.5.0",
            "_view_count": null,
            "_view_module_version": "1.5.0",
            "box_style": "",
            "layout": "IPY_MODEL_c0cdf9e2578449a8b38b19f627a71a5d",
            "_model_module": "@jupyter-widgets/controls",
            "children": [
              "IPY_MODEL_4c1b14e45e984e698d91a7eed85c3f3f",
              "IPY_MODEL_7520df61526848819c56c2996608917d"
            ]
          }
        },
        "c0cdf9e2578449a8b38b19f627a71a5d": {
          "model_module": "@jupyter-widgets/base",
          "model_name": "LayoutModel",
          "state": {
            "_view_name": "LayoutView",
            "grid_template_rows": null,
            "right": null,
            "justify_content": null,
            "_view_module": "@jupyter-widgets/base",
            "overflow": null,
            "_model_module_version": "1.2.0",
            "_view_count": null,
            "flex_flow": null,
            "width": null,
            "min_width": null,
            "border": null,
            "align_items": null,
            "bottom": null,
            "_model_module": "@jupyter-widgets/base",
            "top": null,
            "grid_column": null,
            "overflow_y": null,
            "overflow_x": null,
            "grid_auto_flow": null,
            "grid_area": null,
            "grid_template_columns": null,
            "flex": null,
            "_model_name": "LayoutModel",
            "justify_items": null,
            "grid_row": null,
            "max_height": null,
            "align_content": null,
            "visibility": null,
            "align_self": null,
            "height": null,
            "min_height": null,
            "padding": null,
            "grid_auto_rows": null,
            "grid_gap": null,
            "max_width": null,
            "order": null,
            "_view_module_version": "1.2.0",
            "grid_template_areas": null,
            "object_position": null,
            "object_fit": null,
            "grid_auto_columns": null,
            "margin": null,
            "display": null,
            "left": null
          }
        },
        "4c1b14e45e984e698d91a7eed85c3f3f": {
          "model_module": "@jupyter-widgets/controls",
          "model_name": "FloatProgressModel",
          "state": {
            "_view_name": "ProgressView",
            "style": "IPY_MODEL_3105855bb2e94526906c93af1de5823d",
            "_dom_classes": [],
            "description": "",
            "_model_name": "FloatProgressModel",
            "bar_style": "success",
            "max": 1,
            "_view_module": "@jupyter-widgets/controls",
            "_model_module_version": "1.5.0",
            "value": 1,
            "_view_count": null,
            "_view_module_version": "1.5.0",
            "orientation": "horizontal",
            "min": 0,
            "description_tooltip": null,
            "_model_module": "@jupyter-widgets/controls",
            "layout": "IPY_MODEL_1f76bfe228a846aca5048cf4b4b15d38"
          }
        },
        "7520df61526848819c56c2996608917d": {
          "model_module": "@jupyter-widgets/controls",
          "model_name": "HTMLModel",
          "state": {
            "_view_name": "HTMLView",
            "style": "IPY_MODEL_3f2fbee026b0443cbde6384556a086e9",
            "_dom_classes": [],
            "description": "",
            "_model_name": "HTMLModel",
            "placeholder": "​",
            "_view_module": "@jupyter-widgets/controls",
            "_model_module_version": "1.5.0",
            "value": " 1654784/? [00:08&lt;00:00, 194518.51it/s]",
            "_view_count": null,
            "_view_module_version": "1.5.0",
            "description_tooltip": null,
            "_model_module": "@jupyter-widgets/controls",
            "layout": "IPY_MODEL_c9c353839c03465890630044937e666e"
          }
        },
        "3105855bb2e94526906c93af1de5823d": {
          "model_module": "@jupyter-widgets/controls",
          "model_name": "ProgressStyleModel",
          "state": {
            "_view_name": "StyleView",
            "_model_name": "ProgressStyleModel",
            "description_width": "initial",
            "_view_module": "@jupyter-widgets/base",
            "_model_module_version": "1.5.0",
            "_view_count": null,
            "_view_module_version": "1.2.0",
            "bar_color": null,
            "_model_module": "@jupyter-widgets/controls"
          }
        },
        "1f76bfe228a846aca5048cf4b4b15d38": {
          "model_module": "@jupyter-widgets/base",
          "model_name": "LayoutModel",
          "state": {
            "_view_name": "LayoutView",
            "grid_template_rows": null,
            "right": null,
            "justify_content": null,
            "_view_module": "@jupyter-widgets/base",
            "overflow": null,
            "_model_module_version": "1.2.0",
            "_view_count": null,
            "flex_flow": null,
            "width": null,
            "min_width": null,
            "border": null,
            "align_items": null,
            "bottom": null,
            "_model_module": "@jupyter-widgets/base",
            "top": null,
            "grid_column": null,
            "overflow_y": null,
            "overflow_x": null,
            "grid_auto_flow": null,
            "grid_area": null,
            "grid_template_columns": null,
            "flex": null,
            "_model_name": "LayoutModel",
            "justify_items": null,
            "grid_row": null,
            "max_height": null,
            "align_content": null,
            "visibility": null,
            "align_self": null,
            "height": null,
            "min_height": null,
            "padding": null,
            "grid_auto_rows": null,
            "grid_gap": null,
            "max_width": null,
            "order": null,
            "_view_module_version": "1.2.0",
            "grid_template_areas": null,
            "object_position": null,
            "object_fit": null,
            "grid_auto_columns": null,
            "margin": null,
            "display": null,
            "left": null
          }
        },
        "3f2fbee026b0443cbde6384556a086e9": {
          "model_module": "@jupyter-widgets/controls",
          "model_name": "DescriptionStyleModel",
          "state": {
            "_view_name": "StyleView",
            "_model_name": "DescriptionStyleModel",
            "description_width": "",
            "_view_module": "@jupyter-widgets/base",
            "_model_module_version": "1.5.0",
            "_view_count": null,
            "_view_module_version": "1.2.0",
            "_model_module": "@jupyter-widgets/controls"
          }
        },
        "c9c353839c03465890630044937e666e": {
          "model_module": "@jupyter-widgets/base",
          "model_name": "LayoutModel",
          "state": {
            "_view_name": "LayoutView",
            "grid_template_rows": null,
            "right": null,
            "justify_content": null,
            "_view_module": "@jupyter-widgets/base",
            "overflow": null,
            "_model_module_version": "1.2.0",
            "_view_count": null,
            "flex_flow": null,
            "width": null,
            "min_width": null,
            "border": null,
            "align_items": null,
            "bottom": null,
            "_model_module": "@jupyter-widgets/base",
            "top": null,
            "grid_column": null,
            "overflow_y": null,
            "overflow_x": null,
            "grid_auto_flow": null,
            "grid_area": null,
            "grid_template_columns": null,
            "flex": null,
            "_model_name": "LayoutModel",
            "justify_items": null,
            "grid_row": null,
            "max_height": null,
            "align_content": null,
            "visibility": null,
            "align_self": null,
            "height": null,
            "min_height": null,
            "padding": null,
            "grid_auto_rows": null,
            "grid_gap": null,
            "max_width": null,
            "order": null,
            "_view_module_version": "1.2.0",
            "grid_template_areas": null,
            "object_position": null,
            "object_fit": null,
            "grid_auto_columns": null,
            "margin": null,
            "display": null,
            "left": null
          }
        },
        "c0fed48336614692b9c974352244e124": {
          "model_module": "@jupyter-widgets/controls",
          "model_name": "HBoxModel",
          "state": {
            "_view_name": "HBoxView",
            "_dom_classes": [],
            "_model_name": "HBoxModel",
            "_view_module": "@jupyter-widgets/controls",
            "_model_module_version": "1.5.0",
            "_view_count": null,
            "_view_module_version": "1.5.0",
            "box_style": "",
            "layout": "IPY_MODEL_4105abf42c7c47ec8d67dc848ac07174",
            "_model_module": "@jupyter-widgets/controls",
            "children": [
              "IPY_MODEL_8360d129ecaa4f3681c2d6dd344691c5",
              "IPY_MODEL_498d4485fb6c48ae92ee0048176b8585"
            ]
          }
        },
        "4105abf42c7c47ec8d67dc848ac07174": {
          "model_module": "@jupyter-widgets/base",
          "model_name": "LayoutModel",
          "state": {
            "_view_name": "LayoutView",
            "grid_template_rows": null,
            "right": null,
            "justify_content": null,
            "_view_module": "@jupyter-widgets/base",
            "overflow": null,
            "_model_module_version": "1.2.0",
            "_view_count": null,
            "flex_flow": null,
            "width": null,
            "min_width": null,
            "border": null,
            "align_items": null,
            "bottom": null,
            "_model_module": "@jupyter-widgets/base",
            "top": null,
            "grid_column": null,
            "overflow_y": null,
            "overflow_x": null,
            "grid_auto_flow": null,
            "grid_area": null,
            "grid_template_columns": null,
            "flex": null,
            "_model_name": "LayoutModel",
            "justify_items": null,
            "grid_row": null,
            "max_height": null,
            "align_content": null,
            "visibility": null,
            "align_self": null,
            "height": null,
            "min_height": null,
            "padding": null,
            "grid_auto_rows": null,
            "grid_gap": null,
            "max_width": null,
            "order": null,
            "_view_module_version": "1.2.0",
            "grid_template_areas": null,
            "object_position": null,
            "object_fit": null,
            "grid_auto_columns": null,
            "margin": null,
            "display": null,
            "left": null
          }
        },
        "8360d129ecaa4f3681c2d6dd344691c5": {
          "model_module": "@jupyter-widgets/controls",
          "model_name": "FloatProgressModel",
          "state": {
            "_view_name": "ProgressView",
            "style": "IPY_MODEL_8ddbfcf1353346a3b1346a0489a25ade",
            "_dom_classes": [],
            "description": "",
            "_model_name": "FloatProgressModel",
            "bar_style": "success",
            "max": 1,
            "_view_module": "@jupyter-widgets/controls",
            "_model_module_version": "1.5.0",
            "value": 1,
            "_view_count": null,
            "_view_module_version": "1.5.0",
            "orientation": "horizontal",
            "min": 0,
            "description_tooltip": null,
            "_model_module": "@jupyter-widgets/controls",
            "layout": "IPY_MODEL_97232fbcae984dea8fbb9c7ca06d47b1"
          }
        },
        "498d4485fb6c48ae92ee0048176b8585": {
          "model_module": "@jupyter-widgets/controls",
          "model_name": "HTMLModel",
          "state": {
            "_view_name": "HTMLView",
            "style": "IPY_MODEL_3d4b8e59f605494888893dee91d785eb",
            "_dom_classes": [],
            "description": "",
            "_model_name": "HTMLModel",
            "placeholder": "​",
            "_view_module": "@jupyter-widgets/controls",
            "_model_module_version": "1.5.0",
            "value": " 8192/? [00:08&lt;00:00, 997.15it/s]",
            "_view_count": null,
            "_view_module_version": "1.5.0",
            "description_tooltip": null,
            "_model_module": "@jupyter-widgets/controls",
            "layout": "IPY_MODEL_3badfd23ae6b443a8df292688966025c"
          }
        },
        "8ddbfcf1353346a3b1346a0489a25ade": {
          "model_module": "@jupyter-widgets/controls",
          "model_name": "ProgressStyleModel",
          "state": {
            "_view_name": "StyleView",
            "_model_name": "ProgressStyleModel",
            "description_width": "initial",
            "_view_module": "@jupyter-widgets/base",
            "_model_module_version": "1.5.0",
            "_view_count": null,
            "_view_module_version": "1.2.0",
            "bar_color": null,
            "_model_module": "@jupyter-widgets/controls"
          }
        },
        "97232fbcae984dea8fbb9c7ca06d47b1": {
          "model_module": "@jupyter-widgets/base",
          "model_name": "LayoutModel",
          "state": {
            "_view_name": "LayoutView",
            "grid_template_rows": null,
            "right": null,
            "justify_content": null,
            "_view_module": "@jupyter-widgets/base",
            "overflow": null,
            "_model_module_version": "1.2.0",
            "_view_count": null,
            "flex_flow": null,
            "width": null,
            "min_width": null,
            "border": null,
            "align_items": null,
            "bottom": null,
            "_model_module": "@jupyter-widgets/base",
            "top": null,
            "grid_column": null,
            "overflow_y": null,
            "overflow_x": null,
            "grid_auto_flow": null,
            "grid_area": null,
            "grid_template_columns": null,
            "flex": null,
            "_model_name": "LayoutModel",
            "justify_items": null,
            "grid_row": null,
            "max_height": null,
            "align_content": null,
            "visibility": null,
            "align_self": null,
            "height": null,
            "min_height": null,
            "padding": null,
            "grid_auto_rows": null,
            "grid_gap": null,
            "max_width": null,
            "order": null,
            "_view_module_version": "1.2.0",
            "grid_template_areas": null,
            "object_position": null,
            "object_fit": null,
            "grid_auto_columns": null,
            "margin": null,
            "display": null,
            "left": null
          }
        },
        "3d4b8e59f605494888893dee91d785eb": {
          "model_module": "@jupyter-widgets/controls",
          "model_name": "DescriptionStyleModel",
          "state": {
            "_view_name": "StyleView",
            "_model_name": "DescriptionStyleModel",
            "description_width": "",
            "_view_module": "@jupyter-widgets/base",
            "_model_module_version": "1.5.0",
            "_view_count": null,
            "_view_module_version": "1.2.0",
            "_model_module": "@jupyter-widgets/controls"
          }
        },
        "3badfd23ae6b443a8df292688966025c": {
          "model_module": "@jupyter-widgets/base",
          "model_name": "LayoutModel",
          "state": {
            "_view_name": "LayoutView",
            "grid_template_rows": null,
            "right": null,
            "justify_content": null,
            "_view_module": "@jupyter-widgets/base",
            "overflow": null,
            "_model_module_version": "1.2.0",
            "_view_count": null,
            "flex_flow": null,
            "width": null,
            "min_width": null,
            "border": null,
            "align_items": null,
            "bottom": null,
            "_model_module": "@jupyter-widgets/base",
            "top": null,
            "grid_column": null,
            "overflow_y": null,
            "overflow_x": null,
            "grid_auto_flow": null,
            "grid_area": null,
            "grid_template_columns": null,
            "flex": null,
            "_model_name": "LayoutModel",
            "justify_items": null,
            "grid_row": null,
            "max_height": null,
            "align_content": null,
            "visibility": null,
            "align_self": null,
            "height": null,
            "min_height": null,
            "padding": null,
            "grid_auto_rows": null,
            "grid_gap": null,
            "max_width": null,
            "order": null,
            "_view_module_version": "1.2.0",
            "grid_template_areas": null,
            "object_position": null,
            "object_fit": null,
            "grid_auto_columns": null,
            "margin": null,
            "display": null,
            "left": null
          }
        }
      }
    }
  },
  "cells": [
    {
      "cell_type": "code",
      "metadata": {
        "colab": {
          "base_uri": "https://localhost:8080/"
        },
        "id": "nQR9-nyib10F",
        "outputId": "064ea0b7-d36c-48d1-99fc-dca2fc385861"
      },
      "source": [
        "!pip install torch"
      ],
      "execution_count": 3,
      "outputs": [
        {
          "output_type": "stream",
          "text": [
            "Requirement already satisfied: torch in /usr/local/lib/python3.6/dist-packages (1.7.0+cu101)\n",
            "Requirement already satisfied: typing-extensions in /usr/local/lib/python3.6/dist-packages (from torch) (3.7.4.3)\n",
            "Requirement already satisfied: dataclasses in /usr/local/lib/python3.6/dist-packages (from torch) (0.8)\n",
            "Requirement already satisfied: future in /usr/local/lib/python3.6/dist-packages (from torch) (0.16.0)\n",
            "Requirement already satisfied: numpy in /usr/local/lib/python3.6/dist-packages (from torch) (1.18.5)\n"
          ],
          "name": "stdout"
        }
      ]
    },
    {
      "cell_type": "code",
      "metadata": {
        "id": "Js169w9FaFN7"
      },
      "source": [
        "''' Hoew to use GPU with Pytorch? '''\n",
        "import torch \n",
        "\n",
        "# define model\n",
        "# model = MLPModel(784, 10, [1000])\n",
        "\n",
        "# device \n",
        "device = torch.device('cuda:0' if torch.cuda.is_available() else 'cpu')\n",
        "model.to(device)"
      ],
      "execution_count": 8,
      "outputs": []
    },
    {
      "cell_type": "code",
      "metadata": {
        "id": "uC_fJ_xpbtyc"
      },
      "source": [
        "# input도 device에 적절하게 할당해야 함\n",
        "\n",
        "input_X = input_X.to(device) #device에 실린 input_X가 model에 적용됨 (pred_y = model(Input_X)) #GPU사용\n",
        "true_y = true_y.to(device)\n",
        "input_X = input_X.squeeze()\n",
        "input_X = input_X.view(-1, 784)\n",
        "\n",
        "pred_y = model(input_X) #input_X = input_X.to(device) 를 받음  #GPU사용\n",
        "\n",
        "\n",
        "# GPU에 할당할지, CPU에 할당할지\n",
        "# 1) input: GPU -> output(true_y): CPU\n",
        "# 2) input: GPU -> output(true_y): GPU  -> output에 대한 계산이 iterantion 없이 일어나기 때문에 1)보다 빠르게 loss를 계산 할 수 있음\n",
        "\n",
        "# 나아가 loss가 dependence한 경우도 있기 때문에 to(device)를 사용하여 criterion을 device에 보내주도록 한다. 이럴 경우 pred_y, true_y, loss, backpropagation 등 전체적으로 선택한 device 예컨대, GPU에서 모두 계산해준다.\n",
        "criterion = nm.MSE()\n",
        "criterion.to(device)"
      ],
      "execution_count": null,
      "outputs": []
    },
    {
      "cell_type": "code",
      "metadata": {
        "colab": {
          "base_uri": "https://localhost:8080/"
        },
        "id": "pJhGuEZjeaSh",
        "outputId": "d4f18497-4967-4c01-eede-210bf9c4755f"
      },
      "source": [
        "'''  MNIST Digit Recogntion '''\n",
        "\n",
        "!pip install -q torch==1.7.0 torchvision\n",
        "import torch\n",
        "print(torch.__version__)"
      ],
      "execution_count": 4,
      "outputs": [
        {
          "output_type": "stream",
          "text": [
            "1.7.0+cu101\n"
          ],
          "name": "stdout"
        }
      ]
    },
    {
      "cell_type": "code",
      "metadata": {
        "id": "ZHDfnm3gf1W4"
      },
      "source": [
        "import torch\n",
        "from torchvision import datasets, transforms\n",
        "import torch.nn as nn"
      ],
      "execution_count": 5,
      "outputs": []
    },
    {
      "cell_type": "markdown",
      "metadata": {
        "id": "ifiykrSGhP5t"
      },
      "source": [
        "**1. Data Preparation**"
      ]
    },
    {
      "cell_type": "code",
      "metadata": {
        "colab": {
          "base_uri": "https://localhost:8080/",
          "height": 411,
          "referenced_widgets": [
            "fb2abacabb8e4b4ba14c76b42e2b7945",
            "7452d3a40ef74fd98d423e22de11e1aa",
            "4510e812270e4693a3ec18217af14d66",
            "bd5dab5ded4940eda464981e5b6b9600",
            "fd4cf6c6d19b41ed9a7f74796648b3e1",
            "de5f6a728f6349ad80acf2d38da50c0a",
            "78cbf22daf9445f986a9b55e139bbfbd",
            "531dd4a6f7384bda83e31ce6b7b1530b",
            "ee7c8a9118034266b81fee9dc9031df5",
            "2cca19e19141460d9062f19745aac46a",
            "7cb8759fae6e4331bb8a099bfa10e8f6",
            "236fcce0718a41aba915037735f42075",
            "752d5400d9574f3592383a7893546713",
            "559a95d604934522ae1bed018828a3e8",
            "a36540a6e37a4130880323e52c47b136",
            "73485af94cac4cc98c42702ace11263a",
            "d91631328449427bbe226c8d42614c7c",
            "c0cdf9e2578449a8b38b19f627a71a5d",
            "4c1b14e45e984e698d91a7eed85c3f3f",
            "7520df61526848819c56c2996608917d",
            "3105855bb2e94526906c93af1de5823d",
            "1f76bfe228a846aca5048cf4b4b15d38",
            "3f2fbee026b0443cbde6384556a086e9",
            "c9c353839c03465890630044937e666e",
            "c0fed48336614692b9c974352244e124",
            "4105abf42c7c47ec8d67dc848ac07174",
            "8360d129ecaa4f3681c2d6dd344691c5",
            "498d4485fb6c48ae92ee0048176b8585",
            "8ddbfcf1353346a3b1346a0489a25ade",
            "97232fbcae984dea8fbb9c7ca06d47b1",
            "3d4b8e59f605494888893dee91d785eb",
            "3badfd23ae6b443a8df292688966025c"
          ]
        },
        "id": "2bn-RfQTgo7f",
        "outputId": "6d8f7aaa-00f5-4ce6-983a-f83cee1d7539"
      },
      "source": [
        "batch_size = 128\n",
        "train_dataset = datasets.MNIST('./data', train=True, download=True,\n",
        "                   transform=transforms.Compose([\n",
        "                       transforms.ToTensor(),\n",
        "                       transforms.Normalize((0.1307,), (0.3081,))\n",
        "                   ]))\n",
        "test_dataset =  datasets.MNIST('./data', train=False, download=True,\n",
        "                   transform=transforms.Compose([\n",
        "                       transforms.ToTensor(),\n",
        "                       transforms.Normalize((0.1307,), (0.3081,))\n",
        "                   ]))\n",
        "train_dataset, val_dataset = torch.utils.data.random_split(train_dataset, [50000, 10000])\n",
        "print(len(train_dataset), len(val_dataset), len(test_dataset))\n",
        "\n",
        "train_loader = torch.utils.data.DataLoader(train_dataset, batch_size=128, shuffle=True)\n",
        "val_loader = torch.utils.data.DataLoader(val_dataset, batch_size=128, shuffle=False)\n",
        "test_loader = torch.utils.data.DataLoader(test_dataset, batch_size=128, shuffle=False)"
      ],
      "execution_count": 6,
      "outputs": [
        {
          "output_type": "stream",
          "text": [
            "Downloading http://yann.lecun.com/exdb/mnist/train-images-idx3-ubyte.gz to ./data/MNIST/raw/train-images-idx3-ubyte.gz\n"
          ],
          "name": "stdout"
        },
        {
          "output_type": "display_data",
          "data": {
            "application/vnd.jupyter.widget-view+json": {
              "model_id": "fb2abacabb8e4b4ba14c76b42e2b7945",
              "version_minor": 0,
              "version_major": 2
            },
            "text/plain": [
              "HBox(children=(FloatProgress(value=1.0, bar_style='info', max=1.0), HTML(value='')))"
            ]
          },
          "metadata": {
            "tags": []
          }
        },
        {
          "output_type": "stream",
          "text": [
            "Extracting ./data/MNIST/raw/train-images-idx3-ubyte.gz to ./data/MNIST/raw\n",
            "Downloading http://yann.lecun.com/exdb/mnist/train-labels-idx1-ubyte.gz to ./data/MNIST/raw/train-labels-idx1-ubyte.gz\n"
          ],
          "name": "stdout"
        },
        {
          "output_type": "display_data",
          "data": {
            "application/vnd.jupyter.widget-view+json": {
              "model_id": "ee7c8a9118034266b81fee9dc9031df5",
              "version_minor": 0,
              "version_major": 2
            },
            "text/plain": [
              "HBox(children=(FloatProgress(value=1.0, bar_style='info', max=1.0), HTML(value='')))"
            ]
          },
          "metadata": {
            "tags": []
          }
        },
        {
          "output_type": "stream",
          "text": [
            "Extracting ./data/MNIST/raw/train-labels-idx1-ubyte.gz to ./data/MNIST/raw\n",
            "Downloading http://yann.lecun.com/exdb/mnist/t10k-images-idx3-ubyte.gz to ./data/MNIST/raw/t10k-images-idx3-ubyte.gz\n",
            "\n"
          ],
          "name": "stdout"
        },
        {
          "output_type": "display_data",
          "data": {
            "application/vnd.jupyter.widget-view+json": {
              "model_id": "d91631328449427bbe226c8d42614c7c",
              "version_minor": 0,
              "version_major": 2
            },
            "text/plain": [
              "HBox(children=(FloatProgress(value=1.0, bar_style='info', max=1.0), HTML(value='')))"
            ]
          },
          "metadata": {
            "tags": []
          }
        },
        {
          "output_type": "stream",
          "text": [
            "Extracting ./data/MNIST/raw/t10k-images-idx3-ubyte.gz to ./data/MNIST/raw\n",
            "Downloading http://yann.lecun.com/exdb/mnist/t10k-labels-idx1-ubyte.gz to ./data/MNIST/raw/t10k-labels-idx1-ubyte.gz\n"
          ],
          "name": "stdout"
        },
        {
          "output_type": "display_data",
          "data": {
            "application/vnd.jupyter.widget-view+json": {
              "model_id": "c0fed48336614692b9c974352244e124",
              "version_minor": 0,
              "version_major": 2
            },
            "text/plain": [
              "HBox(children=(FloatProgress(value=1.0, bar_style='info', max=1.0), HTML(value='')))"
            ]
          },
          "metadata": {
            "tags": []
          }
        },
        {
          "output_type": "stream",
          "text": [
            "Extracting ./data/MNIST/raw/t10k-labels-idx1-ubyte.gz to ./data/MNIST/raw\n",
            "Processing...\n",
            "Done!\n",
            "50000 10000 10000\n"
          ],
          "name": "stdout"
        },
        {
          "output_type": "stream",
          "text": [
            "/usr/local/lib/python3.6/dist-packages/torchvision/datasets/mnist.py:480: UserWarning: The given NumPy array is not writeable, and PyTorch does not support non-writeable tensors. This means you can write to the underlying (supposedly non-writeable) NumPy array using the tensor. You may want to copy the array to protect its data or make it writeable before converting it to a tensor. This type of warning will be suppressed for the rest of this program. (Triggered internally at  /pytorch/torch/csrc/utils/tensor_numpy.cpp:141.)\n",
            "  return torch.from_numpy(parsed.astype(m[2], copy=False)).view(*s)\n"
          ],
          "name": "stderr"
        }
      ]
    },
    {
      "cell_type": "markdown",
      "metadata": {
        "id": "R29EunHzhfFD"
      },
      "source": [
        "- Inspecting Dataset"
      ]
    },
    {
      "cell_type": "code",
      "metadata": {
        "colab": {
          "base_uri": "https://localhost:8080/",
          "height": 710
        },
        "id": "a30PxmtGhCCs",
        "outputId": "2caea71a-7fa6-499c-a074-c1956022c230"
      },
      "source": [
        "examples = enumerate(train_loader)\n",
        "batch_idx, (example_data, example_targets) = next(examples)\n",
        "\n",
        "import matplotlib.pyplot as plt\n",
        "\n",
        "fig = plt.figure(figsize = (15,9))\n",
        "for i in range(6):\n",
        "  plt.subplot(2,3,i+1)\n",
        "  plt.tight_layout()\n",
        "  plt.imshow(example_data[i][0], cmap='viridis', interpolation = 'none')\n",
        "  plt.title(\"Ground Truth: {}\".format(example_targets[i]))\n",
        "plt.show()"
      ],
      "execution_count": 7,
      "outputs": [
        {
          "output_type": "stream",
          "text": [
            "\n",
            "\n",
            "\n"
          ],
          "name": "stdout"
        },
        {
          "output_type": "display_data",
          "data": {
            "image/png": "[encoded data removed]",
            "text/plain": [
              "<Figure size 1080x648 with 6 Axes>"
            ]
          },
          "metadata": {
            "tags": [],
            "needs_background": "light"
          }
        }
      ]
    },
    {
      "cell_type": "markdown",
      "metadata": {
        "id": "57pZH1Imi39d"
      },
      "source": [
        "**2. Model Architecture**"
      ]
    },
    {
      "cell_type": "code",
      "metadata": {
        "id": "pfeq8QE5iazn"
      },
      "source": [
        "class LinearModel(nn.Module):\n",
        "  def __init__(self):\n",
        "    super(LinearModel, self).__init__()\n",
        "    self.linear = nn.Linear(in_features=784, out_features=10, bias=True)\n",
        "\n",
        "  def forward(self, x):\n",
        "    x = self.linear(x)\n",
        "    return(x)"
      ],
      "execution_count": 8,
      "outputs": []
    },
    {
      "cell_type": "markdown",
      "metadata": {
        "id": "uzeY8fNcjZno"
      },
      "source": [
        "**3. Cost Function Define (Loss Function Define)**"
      ]
    },
    {
      "cell_type": "code",
      "metadata": {
        "id": "yM0rQ6Lrjhw7"
      },
      "source": [
        "cls_loss = nn.CrossEntropyLoss()"
      ],
      "execution_count": 9,
      "outputs": []
    },
    {
      "cell_type": "markdown",
      "metadata": {
        "id": "Z-xmzOTMjmBT"
      },
      "source": [
        "**4. Train & Evalution**"
      ]
    },
    {
      "cell_type": "code",
      "metadata": {
        "id": "C9-P_Rsfjk49"
      },
      "source": [
        "import torch.optim as optim\n",
        "from sklearn.metrics import accuracy_score"
      ],
      "execution_count": 10,
      "outputs": []
    },
    {
      "cell_type": "code",
      "metadata": {
        "colab": {
          "base_uri": "https://localhost:8080/"
        },
        "id": "En1gRNJljwx7",
        "outputId": "e2d9d500-f9c6-4b23-8562-652a36c87965"
      },
      "source": [
        "# ====== Construct Model ===== #\n",
        "model = LinearModel()\n",
        "print('Number of {} parameters'.format(sum(p.numel() for p in model.parameters() if p.requires_grad)))"
      ],
      "execution_count": 11,
      "outputs": [
        {
          "output_type": "stream",
          "text": [
            "Number of 7850 parameters\n"
          ],
          "name": "stdout"
        }
      ]
    },
    {
      "cell_type": "code",
      "metadata": {
        "colab": {
          "base_uri": "https://localhost:8080/"
        },
        "id": "6vFH-jbXkGoV",
        "outputId": "5fde674a-ccfa-4689-8f44-a2fa8d0fa8cc"
      },
      "source": [
        "# ===== Construct Optimizer ===== #\n",
        "lr = 0.005\n",
        "optimizer = optim.SGD(model.parameters(), lr=lr)\n",
        "\n",
        "list_epoch = []\n",
        "list_train_loss = []\n",
        "list_val_loss = []\n",
        "list_acc = []\n",
        "list_acc_epoch = []\n",
        "\n",
        "epoch = 30\n",
        "for i in range(epoch):\n",
        "\n",
        "  # ===== Train =====#\n",
        "  train_loss = 0\n",
        "  model.train()\n",
        "  optimizer.zero_grad()\n",
        "\n",
        "  for input_X, true_y in train_loader:\n",
        "    input_X = input_X.squeeze()\n",
        "    input_X = input_X.view(-1, 784)\n",
        "    pred_y = model(input_X)\n",
        "\n",
        "    loss = cls_loss(pred_y.squeeze(), true_y)\n",
        "    loss.backward()\n",
        "    optimizer.step()\n",
        "    train_loss += loss.detach().numpy()\n",
        "  train_loss = train_loss / len(train_loader)\n",
        "  list_train_loss.append(train_loss)\n",
        "  list_epoch.append(i)\n",
        "\n",
        "\n",
        "  # ===== Validation ===== #\n",
        "  val_loss = 0\n",
        "  model.eval()\n",
        "  optimizer.zero_grad()\n",
        "\n",
        "  for input_X, true_y in val_loader:\n",
        "    input_X = input_X.squeeze()\n",
        "    input_X = input_X.view(-1, 784)\n",
        "    pred_y = model(input_X)\n",
        "\n",
        "    loss = cls_loss(pred_y.squeeze(), true_y)\n",
        "    val_loss += loss.detach().numpy()\n",
        "  val_loss = val_loss / len(val_loader)\n",
        "  list_val_loss.append(val_loss)\n",
        "\n",
        "  # ====== Evaluation ===== #\n",
        "  correct = 0\n",
        "  model.eval()\n",
        "  optimizer.zero_grad()\n",
        "\n",
        "  for input_X, true_y in test_loader:\n",
        "    input_X = input_X.squeeze()\n",
        "    input_X = input_X.view(-1, 784)\n",
        "    pred_y = model(input_X).max(1, keepdim=True)[1].squeeze()\n",
        "    correct += pred_y.eq(true_y).sum()\n",
        "\n",
        "  acc = correct.numpy() / len(test_loader.dataset)\n",
        "  list_acc.append(acc)\n",
        "  list_acc_epoch.append(i)\n",
        "\n",
        "  print('Epoch: {}, Train Loss: {}, Val Loss: {}, Test Acc: {}%'.format(i, train_loss, val_loss, acc*100))"
      ],
      "execution_count": 12,
      "outputs": [
        {
          "output_type": "stream",
          "text": [
            "Epoch: 0, Train Loss: 1.4827326583435467, Val Loss: 2.2917920554151077, Test Acc: 88.29%\n",
            "Epoch: 1, Train Loss: 1.774480637610721, Val Loss: 1.6722870685248898, Test Acc: 88.35%\n",
            "Epoch: 2, Train Loss: 1.3960550687349667, Val Loss: 1.8562887767197187, Test Acc: 87.02%\n",
            "Epoch: 3, Train Loss: 1.5116360029753517, Val Loss: 2.3321373470221896, Test Acc: 84.69%\n",
            "Epoch: 4, Train Loss: 1.7329905126100915, Val Loss: 2.6090019753650773, Test Acc: 85.99%\n",
            "Epoch: 5, Train Loss: 1.72752349349239, Val Loss: 2.7251500999437104, Test Acc: 84.54%\n",
            "Epoch: 6, Train Loss: 1.791648937994257, Val Loss: 2.7131081640343124, Test Acc: 85.71%\n",
            "Epoch: 7, Train Loss: 1.8340954807255885, Val Loss: 2.639340644089293, Test Acc: 86.00999999999999%\n",
            "Epoch: 8, Train Loss: 1.9125172253459921, Val Loss: 2.8528043718277654, Test Acc: 85.15%\n",
            "Epoch: 9, Train Loss: 1.914618202182643, Val Loss: 2.8770493186915975, Test Acc: 85.97%\n",
            "Epoch: 10, Train Loss: 1.8894117848418863, Val Loss: 2.7774002529397794, Test Acc: 85.75%\n",
            "Epoch: 11, Train Loss: 1.7991781749612534, Val Loss: 2.6833614552322778, Test Acc: 87.31%\n",
            "Epoch: 12, Train Loss: 1.7292538887590094, Val Loss: 2.6730160606624205, Test Acc: 86.44%\n",
            "Epoch: 13, Train Loss: 1.7765573407225597, Val Loss: 2.8534770812603494, Test Acc: 86.29%\n",
            "Epoch: 14, Train Loss: 1.8148597749450324, Val Loss: 2.7525227869613262, Test Acc: 86.42999999999999%\n",
            "Epoch: 15, Train Loss: 1.8366777325225303, Val Loss: 3.1800356703337274, Test Acc: 85.63%\n",
            "Epoch: 16, Train Loss: 1.9195943577667636, Val Loss: 2.6261978365386587, Test Acc: 88.5%\n",
            "Epoch: 17, Train Loss: 1.7099796599515564, Val Loss: 2.7451980647784247, Test Acc: 86.27%\n",
            "Epoch: 18, Train Loss: 1.799570953373409, Val Loss: 3.1091603772549687, Test Acc: 86.4%\n",
            "Epoch: 19, Train Loss: 2.0008309205322314, Val Loss: 2.818908046318006, Test Acc: 87.64999999999999%\n",
            "Epoch: 20, Train Loss: 1.8678888956756543, Val Loss: 2.8625060494523495, Test Acc: 85.85000000000001%\n",
            "Epoch: 21, Train Loss: 1.7812717451768763, Val Loss: 2.938132722386457, Test Acc: 85.67%\n",
            "Epoch: 22, Train Loss: 1.731662843309705, Val Loss: 2.4749525892516027, Test Acc: 87.16000000000001%\n",
            "Epoch: 23, Train Loss: 1.5828549930887759, Val Loss: 2.5081434698746605, Test Acc: 87.0%\n",
            "Epoch: 24, Train Loss: 1.6444759839940863, Val Loss: 2.9219597081972073, Test Acc: 86.14%\n",
            "Epoch: 25, Train Loss: 1.7338145266637168, Val Loss: 2.5501738950798782, Test Acc: 87.51%\n",
            "Epoch: 26, Train Loss: 1.6605967857953532, Val Loss: 2.569042730935012, Test Acc: 86.59%\n",
            "Epoch: 27, Train Loss: 1.7810042435708253, Val Loss: 2.7080565831515684, Test Acc: 87.01%\n",
            "Epoch: 28, Train Loss: 1.7928285911260053, Val Loss: 2.897719472269469, Test Acc: 84.93%\n",
            "Epoch: 29, Train Loss: 1.9491261033450855, Val Loss: 3.423689147528213, Test Acc: 85.98%\n"
          ],
          "name": "stdout"
        }
      ]
    },
    {
      "cell_type": "markdown",
      "metadata": {
        "id": "OEa9Msh1-5Gc"
      },
      "source": [
        "**5. Report Experiment**"
      ]
    },
    {
      "cell_type": "code",
      "metadata": {
        "colab": {
          "base_uri": "https://localhost:8080/",
          "height": 350
        },
        "id": "B1lGfdpynoiy",
        "outputId": "4617a9fc-2674-4918-ee1b-ff03fc061715"
      },
      "source": [
        "import matplotlib.pyplot as plt\n",
        "\n",
        "fig = plt.figure(figsize=(15,5))\n",
        "\n",
        "# ===== Loss Fluctutaion ===== #\n",
        "ax1 = fig.add_subplot(1,2,1)\n",
        "ax1.plot(list_epoch, list_train_loss, label='train_loss')\n",
        "ax1.plot(list_epoch, list_val_loss, '--', label='val_loss')\n",
        "ax1.set_xlabel('epoch')\n",
        "ax1.set_ylabel('loss')\n",
        "ax1.grid()\n",
        "ax1.legend()\n",
        "ax1.set_title('loss per epoch')\n",
        "\n",
        "# ===== Metric Fluctuation ===== #\n",
        "ax2 = fig.add_subplot(1,2,2)\n",
        "ax2.plot(list_acc_epoch, list_acc, marker='x', label='Accuracy metric')\n",
        "ax2.set_xlabel('epoch')\n",
        "ax2.set_ylabel('Acc')\n",
        "ax2.grid()\n",
        "ax2.legend()\n",
        "ax2.set_title('Accuracy per epoch')\n",
        "\n",
        "plt.show()\n",
        "\n"
      ],
      "execution_count": 13,
      "outputs": [
        {
          "output_type": "display_data",
          "data": {
            "image/png": "[encoded data removed]",
            "text/plain": [
              "<Figure size 1080x360 with 2 Axes>"
            ]
          },
          "metadata": {
            "tags": [],
            "needs_background": "light"
          }
        }
      ]
    },
    {
      "cell_type": "code",
      "metadata": {
        "id": "YOw7GQSJB5X1"
      },
      "source": [
        "import time"
      ],
      "execution_count": 14,
      "outputs": []
    },
    {
      "cell_type": "code",
      "metadata": {
        "colab": {
          "base_uri": "https://localhost:8080/"
        },
        "id": "LWv0v172CH_k",
        "outputId": "aaf09e5f-6b76-4c90-ce84-39f2803b8bd3"
      },
      "source": [
        "# ====== Construct Model ===== #\n",
        "model = LinearModel()\n",
        "print('Number of {} parameters'.format(sum(p.numel() for p in model.parameters() if p.requires_grad)))\n",
        "\n",
        "# ===== Construct Optimizer ===== #\n",
        "lr = 0.005\n",
        "optimizer = optim.SGD(model.parameters(), lr=lr)\n",
        "\n",
        "list_epoch = []\n",
        "list_train_loss = []\n",
        "list_val_loss = []\n",
        "list_acc = []\n",
        "list_acc_epoch = []\n",
        "\n",
        "epoch = 30\n",
        "for i in range(epoch):\n",
        "  ts = time.time()\n",
        "\n",
        "  # ===== Train =====#\n",
        "  train_loss = 0\n",
        "  model.train()\n",
        "  optimizer.zero_grad()\n",
        "\n",
        "  for input_X, true_y in train_loader:\n",
        "    input_X = input_X.squeeze()\n",
        "    input_X = input_X.view(-1, 784)\n",
        "    pred_y = model(input_X)\n",
        "\n",
        "    loss = cls_loss(pred_y.squeeze(), true_y)\n",
        "    loss.backward()\n",
        "    optimizer.step()\n",
        "    train_loss += loss.detach().numpy()\n",
        "  train_loss = train_loss / len(train_loader)\n",
        "  list_train_loss.append(train_loss)\n",
        "  list_epoch.append(i)\n",
        "\n",
        "\n",
        "  # ===== Validation ===== #\n",
        "  val_loss = 0\n",
        "  model.eval()\n",
        "  optimizer.zero_grad()\n",
        "\n",
        "  for input_X, true_y in val_loader:\n",
        "    input_X = input_X.squeeze()\n",
        "    input_X = input_X.view(-1, 784)\n",
        "    pred_y = model(input_X)\n",
        "\n",
        "    loss = cls_loss(pred_y.squeeze(), true_y)\n",
        "    val_loss += loss.detach().numpy()\n",
        "  val_loss = val_loss / len(val_loader)\n",
        "  list_val_loss.append(val_loss)\n",
        "\n",
        "  # ====== Evaluation ===== #\n",
        "  correct = 0\n",
        "  model.eval()\n",
        "  optimizer.zero_grad()\n",
        "\n",
        "  for input_X, true_y in test_loader:\n",
        "    input_X = input_X.squeeze()\n",
        "    input_X = input_X.view(-1, 784)\n",
        "    pred_y = model(input_X).max(1, keepdim=True)[1].squeeze()\n",
        "    correct += pred_y.eq(true_y).sum()\n",
        "\n",
        "  acc = correct.numpy() / len(test_loader.dataset)\n",
        "  list_acc.append(acc)\n",
        "  list_acc_epoch.append(i)\n",
        "\n",
        "  te = time.time()\n",
        "  \n",
        "  print('Epoch: {}, Train Loss: {}, Val Loss: {}, Test Acc: {}%, {:3.1f}'.format(i, train_loss, val_loss, acc*100, te-ts))"
      ],
      "execution_count": 16,
      "outputs": [
        {
          "output_type": "stream",
          "text": [
            "Epoch: 0, Train Loss: 1.8228221877151742, Val Loss: 2.6089789516563657, Test Acc: 86.33999999999999%, 11.7\n",
            "Epoch: 1, Train Loss: 1.81707479730439, Val Loss: 2.692081595642488, Test Acc: 87.22%, 11.7\n",
            "Epoch: 2, Train Loss: 1.7011558582715671, Val Loss: 2.755252518985845, Test Acc: 84.45%, 11.6\n",
            "Epoch: 3, Train Loss: 1.7750091351511534, Val Loss: 2.5699827509778963, Test Acc: 86.47%, 11.6\n",
            "Epoch: 4, Train Loss: 1.6331980906026748, Val Loss: 2.4834140918257988, Test Acc: 86.28%, 11.6\n",
            "Epoch: 5, Train Loss: 1.711712873652768, Val Loss: 2.7468334813661213, Test Acc: 86.14%, 11.6\n",
            "Epoch: 6, Train Loss: 1.6231087238130057, Val Loss: 2.425049752826822, Test Acc: 86.02%, 11.5\n",
            "Epoch: 7, Train Loss: 1.570185009856968, Val Loss: 2.4582568180711966, Test Acc: 87.13%, 11.4\n",
            "Epoch: 8, Train Loss: 1.4350029616366566, Val Loss: 2.401593839914738, Test Acc: 84.99%, 11.4\n",
            "Epoch: 9, Train Loss: 1.61149569202567, Val Loss: 2.670333812484824, Test Acc: 86.56%, 11.7\n",
            "Epoch: 10, Train Loss: 1.643975405894277, Val Loss: 2.403714797636376, Test Acc: 85.82%, 11.4\n",
            "Epoch: 11, Train Loss: 1.4895201651069818, Val Loss: 2.3942577263538234, Test Acc: 86.87%, 11.1\n",
            "Epoch: 12, Train Loss: 1.4095880788229311, Val Loss: 2.3618197877761165, Test Acc: 85.72999999999999%, 11.0\n",
            "Epoch: 13, Train Loss: 1.4422044986120575, Val Loss: 2.439260322907713, Test Acc: 87.18%, 10.9\n",
            "Epoch: 14, Train Loss: 1.468649250848214, Val Loss: 2.6338273549810096, Test Acc: 85.72999999999999%, 11.0\n",
            "Epoch: 15, Train Loss: 1.50966849740204, Val Loss: 2.411657377228705, Test Acc: 88.14999999999999%, 11.1\n",
            "Epoch: 16, Train Loss: 1.5287923990460612, Val Loss: 2.6494860610515, Test Acc: 85.8%, 11.0\n",
            "Epoch: 17, Train Loss: 1.603545354226666, Val Loss: 2.530177557015721, Test Acc: 88.38000000000001%, 11.2\n",
            "Epoch: 18, Train Loss: 1.5142349973511513, Val Loss: 2.3541707632108295, Test Acc: 86.37%, 11.1\n",
            "Epoch: 19, Train Loss: 1.5170443388049866, Val Loss: 2.575859318357668, Test Acc: 87.21%, 11.0\n",
            "Epoch: 20, Train Loss: 1.6263542160811022, Val Loss: 2.525616394568093, Test Acc: 85.26%, 11.1\n",
            "Epoch: 21, Train Loss: 1.6153976447746883, Val Loss: 2.6682372666612455, Test Acc: 87.55%, 11.1\n",
            "Epoch: 22, Train Loss: 1.5308188407317451, Val Loss: 2.3511601875099957, Test Acc: 85.72%, 11.2\n",
            "Epoch: 23, Train Loss: 1.5121961268774993, Val Loss: 2.7361343750935703, Test Acc: 87.96000000000001%, 11.4\n",
            "Epoch: 24, Train Loss: 1.6095764047044623, Val Loss: 2.5577516344529165, Test Acc: 86.04%, 11.2\n",
            "Epoch: 25, Train Loss: 1.5960762248853284, Val Loss: 2.7748849941770573, Test Acc: 87.77000000000001%, 11.1\n",
            "Epoch: 26, Train Loss: 1.6165509846661708, Val Loss: 2.867144498643996, Test Acc: 84.46000000000001%, 11.1\n",
            "Epoch: 27, Train Loss: 1.6383478155221476, Val Loss: 2.8064890412165773, Test Acc: 86.53%, 10.9\n",
            "Epoch: 28, Train Loss: 1.797844482581024, Val Loss: 3.1147185941285724, Test Acc: 84.89999999999999%, 11.0\n",
            "Epoch: 29, Train Loss: 1.8870463527529442, Val Loss: 2.9504012577707246, Test Acc: 87.11%, 11.1\n"
          ],
          "name": "stdout"
        }
      ]
    },
    {
      "cell_type": "code",
      "metadata": {
        "colab": {
          "base_uri": "https://localhost:8080/"
        },
        "id": "OHLowlGoD-SR",
        "outputId": "74ef6e49-445b-4ae6-d416-ffef5747757c"
      },
      "source": [
        "# cuda 설치와 사용 가능\n",
        "print(torch.cuda.is_available())"
      ],
      "execution_count": 17,
      "outputs": [
        {
          "output_type": "stream",
          "text": [
            "True\n"
          ],
          "name": "stdout"
        }
      ]
    },
    {
      "cell_type": "code",
      "metadata": {
        "colab": {
          "base_uri": "https://localhost:8080/"
        },
        "id": "-rqRIG2NCZ-Q",
        "outputId": "cc3d132c-a429-4b0a-eab9-9a1f3146d4f1"
      },
      "source": [
        "# ====== Construct Model ===== #\n",
        "model = LinearModel()\n",
        "device = 'cuda:0' if torch.cuda.is_available() else 'cpu'\n",
        "model.to(device)\n",
        "print('Number of {} parameters'.format(sum(p.numel() for p in model.parameters() if p.requires_grad)))\n",
        "\n",
        "# ===== Construct Optimizer ===== #\n",
        "lr = 0.005\n",
        "optimizer = optim.SGD(model.parameters(), lr=lr)\n",
        "\n",
        "list_epoch = []\n",
        "list_train_loss = []\n",
        "list_val_loss = []\n",
        "list_acc = []\n",
        "list_acc_epoch = []\n",
        "\n",
        "epoch = 30\n",
        "for i in range(epoch):\n",
        "  ts = time.time()\n",
        "\n",
        "  # ===== Train =====#\n",
        "  train_loss = 0\n",
        "  model.train()\n",
        "  optimizer.zero_grad()\n",
        "\n",
        "  for input_X, true_y in train_loader:\n",
        "    input_X = input_X.squeeze()\n",
        "    input_X = input_X.view(-1, 784)\n",
        "    input_X = input_X.to(device)\n",
        "    true_y = true_y.to(device)\n",
        "    pred_y = model(input_X)\n",
        "\n",
        "    loss = cls_loss(pred_y.squeeze(), true_y)\n",
        "    loss.backward()\n",
        "    optimizer.step()\n",
        "    # train_loss += loss.detach().numpy() -> TypeError: can't convert cuda:0 device type tensor to numpy. Use Tensor.cpu() to copy the tensor to host memory first.\n",
        "    train_loss += loss.item()\n",
        "  train_loss = train_loss / len(train_loader)\n",
        "  list_train_loss.append(train_loss)\n",
        "  list_epoch.append(i)\n",
        "\n",
        "\n",
        "  # ===== Validation ===== #\n",
        "  val_loss = 0\n",
        "  model.eval()\n",
        "  optimizer.zero_grad()\n",
        "\n",
        "  for input_X, true_y in val_loader:\n",
        "    input_X = input_X.squeeze()\n",
        "    input_X = input_X.view(-1, 784)\n",
        "    \n",
        "    input_X = input_X.to(device)\n",
        "    true_y = true_y.to(device)\n",
        "    pred_y = model(input_X)\n",
        "\n",
        "    loss = cls_loss(pred_y.squeeze(), true_y)\n",
        "    # val_loss += loss.detach().numpy() \n",
        "    val_loss += loss.item()\n",
        "  val_loss = val_loss / len(val_loader)\n",
        "  list_val_loss.append(val_loss)\n",
        "\n",
        "  # ====== Evaluation ===== #\n",
        "  correct = 0\n",
        "  model.eval()\n",
        "  optimizer.zero_grad()\n",
        "\n",
        "  for input_X, true_y in test_loader:\n",
        "    input_X = input_X.squeeze()\n",
        "    input_X = input_X.view(-1, 784)\n",
        "    input_X = input_X.to(device)\n",
        "    true_y = true_y.to(device)\n",
        "    pred_y = model(input_X).max(1, keepdim=True)[1].squeeze()\n",
        "    correct += pred_y.eq(true_y).sum()\n",
        "\n",
        "  acc = correct.item() / len(test_loader.dataset)\n",
        "  list_acc.append(acc)\n",
        "  list_acc_epoch.append(i)\n",
        "\n",
        "  te = time.time()\n",
        "  \n",
        "  print('Epoch: {}, Train Loss: {}, Val Loss: {}, Test Acc: {}%, {:3.1f}'.format(i, train_loss, val_loss, acc*100, te-ts))"
      ],
      "execution_count": 21,
      "outputs": [
        {
          "output_type": "stream",
          "text": [
            "Number of 7850 parameters\n",
            "Epoch: 0, Train Loss: 1.5061880750271974, Val Loss: 2.2034970376686935, Test Acc: 89.55%, 12.1\n",
            "Epoch: 1, Train Loss: 1.771772486169625, Val Loss: 1.7213360521517977, Test Acc: 88.3%, 12.2\n",
            "Epoch: 2, Train Loss: 1.4286648356319998, Val Loss: 1.9677228122195112, Test Acc: 86.02%, 12.1\n",
            "Epoch: 3, Train Loss: 1.4909293793351448, Val Loss: 1.741489966816171, Test Acc: 87.48%, 12.0\n",
            "Epoch: 4, Train Loss: 1.18726413912328, Val Loss: 1.5013054448763221, Test Acc: 88.02%, 12.1\n",
            "Epoch: 5, Train Loss: 1.1639578598539542, Val Loss: 1.7458881627977532, Test Acc: 86.81%, 11.8\n",
            "Epoch: 6, Train Loss: 1.3365087099468616, Val Loss: 2.1416317643244054, Test Acc: 85.9%, 11.7\n",
            "Epoch: 7, Train Loss: 1.509794414881855, Val Loss: 2.0245913851864725, Test Acc: 87.96000000000001%, 11.6\n",
            "Epoch: 8, Train Loss: 1.3817194848109389, Val Loss: 1.9575311152052275, Test Acc: 85.02%, 11.6\n",
            "Epoch: 9, Train Loss: 1.361900316213098, Val Loss: 2.311063880218735, Test Acc: 85.79%, 11.4\n",
            "Epoch: 10, Train Loss: 1.4908221769515815, Val Loss: 2.3227276878081087, Test Acc: 85.45%, 11.4\n",
            "Epoch: 11, Train Loss: 1.7254502338826503, Val Loss: 2.7741807951957367, Test Acc: 86.18%, 11.6\n",
            "Epoch: 12, Train Loss: 1.711403872198461, Val Loss: 2.4554939213432845, Test Acc: 85.97%, 11.5\n",
            "Epoch: 13, Train Loss: 1.593249717598681, Val Loss: 2.4142650478619703, Test Acc: 86.49%, 11.2\n",
            "Epoch: 14, Train Loss: 1.594582839199649, Val Loss: 2.2701059623273587, Test Acc: 86.85000000000001%, 11.2\n",
            "Epoch: 15, Train Loss: 1.6404106846017301, Val Loss: 2.579957871819416, Test Acc: 86.78%, 11.3\n",
            "Epoch: 16, Train Loss: 1.7165916081127304, Val Loss: 2.3387622603132754, Test Acc: 86.83%, 11.1\n",
            "Epoch: 17, Train Loss: 1.5683191779934231, Val Loss: 2.36503492842456, Test Acc: 87.16000000000001%, 11.4\n",
            "Epoch: 18, Train Loss: 1.692172346212675, Val Loss: 2.590001971354779, Test Acc: 86.11%, 11.3\n",
            "Epoch: 19, Train Loss: 1.843365528775603, Val Loss: 2.8744244936712176, Test Acc: 87.29%, 11.6\n",
            "Epoch: 20, Train Loss: 1.8832966195195533, Val Loss: 2.710840699227523, Test Acc: 86.9%, 11.3\n",
            "Epoch: 21, Train Loss: 1.9010058019472205, Val Loss: 2.7841058742207716, Test Acc: 87.81%, 11.6\n",
            "Epoch: 22, Train Loss: 1.8068916562877957, Val Loss: 2.6998180099611933, Test Acc: 86.38%, 11.8\n",
            "Epoch: 23, Train Loss: 1.8315817482026338, Val Loss: 2.997711670360988, Test Acc: 86.79%, 11.3\n",
            "Epoch: 24, Train Loss: 1.8660566559837908, Val Loss: 2.5503402047236507, Test Acc: 87.68%, 11.2\n",
            "Epoch: 25, Train Loss: 1.6227286961834755, Val Loss: 2.604487275734214, Test Acc: 86.17%, 11.0\n",
            "Epoch: 26, Train Loss: 1.6543043974567861, Val Loss: 2.508957376148437, Test Acc: 87.87%, 11.2\n",
            "Epoch: 27, Train Loss: 1.6992180484640018, Val Loss: 2.660940383766156, Test Acc: 87.3%, 11.2\n",
            "Epoch: 28, Train Loss: 1.655221660652429, Val Loss: 2.562115097910539, Test Acc: 87.25%, 11.3\n",
            "Epoch: 29, Train Loss: 1.8821486678269819, Val Loss: 3.1883670820654166, Test Acc: 86.26%, 11.4\n"
          ],
          "name": "stdout"
        }
      ]
    }
  ]
}