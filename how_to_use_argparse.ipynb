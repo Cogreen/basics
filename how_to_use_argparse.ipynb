{
  "nbformat": 4,
  "nbformat_minor": 0,
  "metadata": {
    "colab": {
      "name": "how_to_use_argparse.ipynb",
      "provenance": [],
      "authorship_tag": "ABX9TyPHZO/0Hu/qiy4YH6Y+l0YC"
    },
    "kernelspec": {
      "name": "python3",
      "display_name": "Python 3"
    }
  },
  "cells": [
    {
      "cell_type": "code",
      "metadata": {
        "id": "Lsy6sEOFYBnG"
      },
      "source": [
        "''' Use argparse when setting Hyperparameter easily '''\n",
        "\n",
        "import argparse"
      ],
      "execution_count": 1,
      "outputs": []
    },
    {
      "cell_type": "code",
      "metadata": {
        "id": "wdyBTqFoYf7C"
      },
      "source": [
        "parser = argparse.ArgumentParser()\n",
        "args = parser.parse_args(\"\")\n",
        "\n",
        "# args = parser.parse_args.(.\"\".). #이전 버전"
      ],
      "execution_count": 2,
      "outputs": []
    },
    {
      "cell_type": "code",
      "metadata": {
        "colab": {
          "base_uri": "https://localhost:8080/"
        },
        "id": "nbVoRsqfYk4z",
        "outputId": "5a27a1fc-c763-49ba-ecdd-4f71094ca014"
      },
      "source": [
        "# argparser를 사용하여 dictionary객체 처럼 사용하기 (굳이 dictionary'' 를 사용하지 않고, argparse를 사용하여 .을 통해 단순하게 작업가능)\n",
        "args.num_layer = 5\n",
        "print(args.num_layer)\n",
        "print(args)\n",
        "\n",
        "args.in_dim = 100\n",
        "print(args)\n",
        "\n",
        "linears = []\n",
        "for i in range(args.num_layer):\n",
        "  linears.append(i)\n",
        "\n",
        "print(linears)\n",
        "\n",
        "# argparse를 dictionary 로 만들기\n",
        "d = vars(args)\n",
        "print(d, type(d))"
      ],
      "execution_count": 3,
      "outputs": [
        {
          "output_type": "stream",
          "text": [
            "5\n",
            "Namespace(num_layer=5)\n",
            "Namespace(in_dim=100, num_layer=5)\n",
            "[0, 1, 2, 3, 4]\n",
            "{'num_layer': 5, 'in_dim': 100} <class 'dict'>\n"
          ],
          "name": "stdout"
        }
      ]
    }
  ]
}